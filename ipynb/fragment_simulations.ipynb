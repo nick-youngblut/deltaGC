{
 "metadata": {
  "name": "",
  "signature": "sha256:86092f54a55e9f89ca581f0c4894d39e19bd95aa2d32956900f40bdf02b29325"
 },
 "nbformat": 3,
 "nbformat_minor": 0,
 "worksheets": [
  {
   "cells": [
    {
     "cell_type": "markdown",
     "metadata": {},
     "source": [
      "# Description\n",
      "\n",
      "* simulating amplicons & shotgun reads for each genome\n",
      "* for each amplicon/read: \n",
      " * simulating a template fragment \n",
      " * calculating GC content & buoyant density\n",
      " \n",
      "__workflow__\n",
      " \n",
      "* Grinder simuation of 1000 amplicons per genome\n",
      " * using 515F-927R\n",
      "  * simulating 454-pyro reads of 215 bp\n",
      "* deltaGC\n",
      " * using left-skewed normal distribution with mean of 12.5 kb or 6 kb\n",
      "* plotting fragment buoyant density distributions"
     ]
    },
    {
     "cell_type": "markdown",
     "metadata": {},
     "source": [
      "# Bacteria"
     ]
    },
    {
     "cell_type": "markdown",
     "metadata": {},
     "source": [
      "## Grinder simulations \n",
      "\n",
      "@ system76-server:~/notebook/deltaGC_notes/data/amplicon/140411_allBac/amp454-L215-N1k\n",
      "\n",
      "### Amplicions\n",
      "\n",
      "* 1k per genome\n",
      "\n",
      "__Grinder run__\n",
      "\n",
      "@ system76-server:~/notebook/deltaGC_notes/data/amplicon/140409_allBac/amp454-L215-N1k\n",
      "    \n",
      "    mkdir read_files\n",
      "    \n",
      "    for file in `find ~/notebook/deltaGC_notes/data/genome_data/prok-bac-genomes_Ngaps/ -name \"*fasta\" | perl -pe 's/.+\\///'`\n",
      "    do\n",
      "        grinder -reference_file ~/notebook/deltaGC_notes/data/genome_data/prok-bac-genomes_Ngaps/$file  \\\n",
      "        -abundance_model uniform -forward_reverse 515Fm-927Rm.fna -rd 215 normal 0 \\\n",
      "        -tr 1000 -copy_bias 0 -length_bias 0 -unidirectional 1 -bn read_files/$file\n",
      "    done\n",
      "        \n",
      "        * had to use for loop because some genomes did not produce any amplicons\n",
      "        * 1092 of the 1163 genomes had amplicons\n",
      "        * all have 1000 reads\n",
      "        \n",
      "__Combining read files__\n",
      "\n",
      "* leaving out 'HE577327 Azospirillum brasilense Sp245 main chromosome complete genome.'\n",
      "\n",
      "@ system76-server:~/notebook/deltaGC_notes/data/amplicon/140409_allBac/amp454-L215-N1k\n",
      "\n",
      "    cat $(find read_files -name \"*fa\" | grep -v \"Azospirillum_brasilense_Sp245.fasta-reads.fa\") | seqIO.pl -i fasta -o fasta > amp454-L215-N1k_reads.fa\n",
      "        * 1091000 sequences extracted\n",
      "        * seqIO.pl used to make line wrapping consistent\n",
      "\n",
      "\n",
      "### Shotgun reads\n",
      "\n",
      "* 10k per genome\n",
      "  \n",
      "__Grinder run__\n",
      "\n",
      "@ system76-server:~/notebook/deltaGC_notes/data/mg-reads/140409_allBac/mg454-L215-N1k\n",
      "\n",
      "    mkdir read_files\n",
      "\n",
      "    screen -S grinder_batch -L bash -c \\\n",
      "        \"find /home/nick/notebook/deltaGC_notes/data/genome_data/prok-bac-genomes_Ngaps/ -name '*fasta' | \\\n",
      "        perl -pe 's/.+\\///' | xargs -n 1 -I % -P 28 \\\n",
      "        grinder -reference_file /home/nick/notebook/deltaGC_notes/data/genome_data/prok-bac-genomes_Ngaps/% \\\n",
      "        -total_reads 1000 -bn read_files/% -read_dist 215 -length_bias 0 -unidirectional 1\"\n",
      "\n",
      "        * 1162 genomes produced shotgun reads\n",
      "        * all have 1000 reads\n",
      "        \n",
      "\n",
      "__Combining read files__\n",
      "\n",
      "@ system76-server:~/notebook/deltaGC_notes/data/mg-reads/140409_allBac/mg454-L215-N10k\n",
      "\n",
      "* just using genomes that amplified with 515F and 927R primers (consistent with 16S amplicon simulations)\n",
      "* leaving out: \"Azospirillum_brasilense_Sp245\"\n",
      "\n",
      "@ system76-server:~/notebook/deltaGC_notes/data/mg-reads/140411_allBac/mg454-L215-N10k\n",
      "\n",
      "    grinder_descByFileName.pl ../../140409_allBac/mg454-L215-N10k/read_files/ > mg454-L215-N10k_reads.fa\n",
      "        * combining read files\n",
      "        * correcting multiple chromosome problem; description is now the same for each taxon\n",
      "\n",
      "    grep -f <(find ~/notebook/deltaGC_notes/data/amplicon/140409_allBac/amp454-L215-N1k/read_files/ -name \"*fa\" | perl -pe 's/.+\\/|\\.fasta-read.+//g; s/\\*/\\\\*/') mg454-L215-N10k_reads.fa | fasta_selectSeqs.pl -f mg454-L215-N10k_reads.fa -l - | seqIO.pl -i fasta -o fasta > mg454-L215-N10k_reads_e.fa\n",
      "\n",
      "        * 10910000 sequences\n",
      "        * 10000 sequences per genome"
     ]
    },
    {
     "cell_type": "markdown",
     "metadata": {},
     "source": [
      "## deltaGC using a left-skewed distribution\n",
      "\n",
      "@ system76-server:~/notebook/deltaGC_notes/data/amplicon/140411_allBac/amp454-L215-N1k\n",
      "    \n",
      "    deltaGC.pl -a -g /home/nick/notebook/deltaGC_notes/data/genome_data/prokBac-CompRep.fna -r amp454-L215-N1k_reads.fa -range 4000-20000 -mean 15000 -sd f -t 12 > skewnorm_m15k_r4k-20k.txt\n",
      "\n",
      "    deltaGC.pl -a -g /home/nick/notebook/deltaGC_notes/data/genome_data/prokBac-CompRep.fna -r amp454-L215-N1k_reads.fa -range 4000-11500 -mean 10000 -sd f -df 50 50 -t 12 -i > skewnorm_m10k_r4k-11.5k.txt\n",
      "\n",
      "_binning by buoyant density_\n",
      "\n",
      "    deltaGCBin.pl skewnorm_m15k_r4k-20k.txt > skewnorm_m15k_r4k-20k_bin.txt\n",
      "    \n",
      "    deltaGCBin.pl skewnorm_m10k_r4k-11.5k.txt > skewnorm_m10k_r4k-11.5k_bin.txt"
     ]
    },
    {
     "cell_type": "markdown",
     "metadata": {},
     "source": [
      "## Analyzing & plotting in R"
     ]
    },
    {
     "cell_type": "code",
     "collapsed": false,
     "input": [
      "%load_ext rmagic"
     ],
     "language": "python",
     "metadata": {},
     "outputs": [
      {
       "output_type": "stream",
       "stream": "stderr",
       "text": [
        "/opt/anaconda/lib/python2.7/site-packages/pytz/__init__.py:29: UserWarning: Module argparse was already imported from /opt/anaconda/lib/python2.7/argparse.pyc, but /opt/anaconda/lib/python2.7/site-packages is being added to sys.path\n",
        "  from pkg_resources import resource_stream\n"
       ]
      }
     ],
     "prompt_number": 3
    },
    {
     "cell_type": "code",
     "collapsed": false,
     "input": [
      "%%R\n",
      "require(ggplot2)\n",
      "require(reshape)\n",
      "require(data.table)\n",
      "require(gridExtra)"
     ],
     "language": "python",
     "metadata": {},
     "outputs": [
      {
       "metadata": {},
       "output_type": "display_data",
       "text": [
        "Loading required package: gridExtra\n",
        "Loading required package: grid\n"
       ]
      }
     ],
     "prompt_number": 21
    },
    {
     "cell_type": "code",
     "collapsed": false,
     "input": [
      "%%R\n",
      "# loading amplicon data \n",
      "base.dir = \"~/notebook/deltaGC_notes/data/amplicon/140411_allBac/amp454-L215-N1k\";\n",
      "files = c(\n",
      "    'skewnorm_m15k_r4k-20k',\n",
      "    'skewnorm_m10k_r4k-11.5k'\n",
      "    )\n",
      "\n",
      "tbl.l = list()\n",
      "for(i in files){\n",
      "    in.file = paste(c(i, \"txt\"), collapse=\".\")\n",
      "    in.file = paste(c(base.dir, in.file), collapse=\"/\")\n",
      "    tbl.l[[i]] = fread(in.file, header=T, sep=\"\\t\")\n",
      "    tbl.l[[i]]$file = rep(i, nrow(tbl.l[[i]]))\n",
      "    }\n",
      "\n",
      "tbl.bin.l = list()\n",
      "for(i in files){\n",
      "    in.file = paste(c(i, \"bin.txt\"), collapse=\"_\")\n",
      "    in.file = paste(c(base.dir, in.file), collapse=\"/\")\n",
      "    tbl.bin.l[[i]] = fread(in.file, header=T, sep=\"\\t\")\n",
      "    tbl.bin.l[[i]]$file = rep(i, nrow(tbl.bin.l[[i]]))\n",
      "    }\n",
      "\n",
      "\n",
      "# loading in genome GC table\n",
      "tbl.genGC = fread(\"~/notebook/deltaGC_notes/data/genome_data/prok-bac-genomes_Ngaps_GC/prok-bac-genomes_Ngaps_GC.txt\",\n",
      "                    header=F)\n",
      "## editing table\n",
      "colnames(tbl.genGC) = c('genome', 'genome_GC')\n",
      "tbl.genGC[,genome:=gsub(\".+\\\\/|\\\\.fasta\", \"\", genome)]\n",
      "\n",
      "## selecting just genomes in other tables\n",
      "tbl.genGC = subset(tbl.genGC, tbl.genGC$genome %in% unique(tbl.bin.l[[i]]$genome) )\n",
      "\n",
      "## adding rank\n",
      "tbl.genGC[,genome_GC_rank:=rank(genome_GC, ties.method='first')]\n",
      "\n",
      "## merging tables\n",
      "for(i in names(tbl.bin.l)){\n",
      "    tbl.bin.l[[i]] = merge(tbl.bin.l[[i]], tbl.genGC, by='genome')\n",
      "}\n",
      "\n",
      "## merging lists\n",
      "tbl.amp = do.call(rbind, tbl.l)\n",
      "tbl.amp$data = rep('amplicon\\nfragments', nrow(tbl.amp))\n",
      "tbl.l = list()\n",
      "\n",
      "tbl.bin.amp = do.call(rbind, tbl.bin.l)\n",
      "tbl.bin.amp$data = rep('amplicon\\nfragments', nrow(tbl.bin.amp))\n",
      "tbl.bin.l = list()"
     ],
     "language": "python",
     "metadata": {},
     "outputs": [
      {
       "metadata": {},
       "output_type": "display_data",
       "text": [
        "\r",
        "Read 53.2% of 1091000 rows\r",
        "Read 84.3% of 1091000 rows\r",
        "Read 1091000 rows and 11 (of 11) columns from 0.151 GB file in 00:00:04\n",
        "\r",
        "Read 97.2% of 1091000 rows\r",
        "Read 1091000 rows and 11 (of 11) columns from 0.150 GB file in 00:00:03\n"
       ]
      }
     ],
     "prompt_number": 6
    },
    {
     "cell_type": "code",
     "collapsed": false,
     "input": [
      "%%R\n",
      "# loading shotgun read data\n",
      "base.dir = \"~/notebook/deltaGC_notes/data/mg-reads/140411_allBac/mg454-L215-N10k\";\n",
      "files = list(\n",
      "    'skewnorm_m15k_r4k-20k',\n",
      "    'skewnorm_m10k_r4k-11.5k'\n",
      "    )\n",
      "\n",
      "tbl.l = list()\n",
      "for(i in files){\n",
      "    in.file = paste(c(i, \"txt\"), collapse=\".\")\n",
      "    in.file = paste(c(base.dir, in.file), collapse=\"/\")\n",
      "    tbl.l[[i]] = fread(in.file, header=T, sep=\"\\t\")\n",
      "    tbl.l[[i]]$file = rep(i, nrow(tbl.l[[i]]))\n",
      "    }\n",
      "\n",
      "tbl.bin.l = list()\n",
      "for(i in files){\n",
      "    in.file = paste(c(i, \"bin.txt\"), collapse=\"_\")\n",
      "    in.file = paste(c(base.dir, in.file), collapse=\"/\")\n",
      "    tbl.bin.l[[i]] = fread(in.file, header=T, sep=\"\\t\")\n",
      "    tbl.bin.l[[i]]$file = rep(i, nrow(tbl.bin.l[[i]]))\n",
      "    }\n",
      "\n",
      "\n",
      "# loading in genome GC table\n",
      "tbl.genGC = fread(\"~/notebook/deltaGC_notes/data/genome_data/prok-bac-genomes_Ngaps_GC/prok-bac-genomes_Ngaps_GC.txt\",\n",
      "                    header=F)\n",
      "## editing table\n",
      "colnames(tbl.genGC) = c('genome', 'genome_GC')\n",
      "tbl.genGC[,genome:=gsub(\".+\\\\/|\\\\.fasta\", \"\", genome)]\n",
      "\n",
      "## selecting just genomes in other tables\n",
      "tbl.genGC = subset(tbl.genGC, tbl.genGC$genome %in% unique(tbl.bin.l[[i]]$genome) )\n",
      "\n",
      "## adding rank\n",
      "tbl.genGC[,genome_GC_rank:=rank(genome_GC, ties.method='first')]\n",
      "\n",
      "## merging tables\n",
      "for(i in names(tbl.bin.l)){\n",
      "    tbl.bin.l[[i]] = merge(tbl.bin.l[[i]], tbl.genGC, by='genome')\n",
      "}\n",
      "\n",
      "## merging lists\n",
      "tbl.mg = do.call(rbind, tbl.l)\n",
      "tbl.mg$data = rep('shotgun\\nfragments', nrow(tbl.mg))\n",
      "tbl.l = list()\n",
      "\n",
      "tbl.bin.mg = do.call(rbind, tbl.bin.l)\n",
      "tbl.bin.mg$data = rep('shotgun\\nfragments', nrow(tbl.bin.mg))\n",
      "tbl.bin.l = list()"
     ],
     "language": "python",
     "metadata": {},
     "outputs": [
      {
       "metadata": {},
       "output_type": "display_data",
       "text": [
        "\r",
        "Read 0.0% of 10910000 rows\r",
        "Read 6.1% of 10910000 rows\r",
        "Read 9.0% of 10910000 rows\r",
        "Read 11.3% of 10910000 rows\r",
        "Read 14.0% of 10910000 rows\r",
        "Read 16.0% of 10910000 rows\r",
        "Read 18.2% of 10910000 rows\r",
        "Read 20.1% of 10910000 rows\r",
        "Read 22.3% of 10910000 rows\r",
        "Read 24.6% of 10910000 rows\r",
        "Read 26.9% of 10910000 rows\r",
        "Read 29.4% of 10910000 rows\r",
        "Read 32.1% of 10910000 rows\r",
        "Read 34.9% of 10910000 rows\r",
        "Read 37.8% of 10910000 rows\r",
        "Read 40.9% of 10910000 rows\r",
        "Read 44.1% of 10910000 rows\r",
        "Read 47.5% of 10910000 rows\r",
        "Read 51.1% of 10910000 rows\r",
        "Read 54.7% of 10910000 rows\r",
        "Read 58.7% of 10910000 rows\r",
        "Read 62.8% of 10910000 rows\r",
        "Read 67.1% of 10910000 rows\r",
        "Read 71.6% of 10910000 rows\r",
        "Read 76.4% of 10910000 rows\r",
        "Read 78.7% of 10910000 rows\r",
        "Read 81.3% of 10910000 rows\r",
        "Read 86.6% of 10910000 rows\r",
        "Read 92.1% of 10910000 rows\r",
        "Read 97.9% of 10910000 rows\r",
        "Read 10910000 rows and 11 (of 11) columns from 1.523 GB file in 00:01:03\n",
        "\r",
        "Read 0.0% of 10910000 rows\r",
        "Read 6.6% of 10910000 rows\r",
        "Read 13.3% of 10910000 rows\r",
        "Read 20.1% of 10910000 rows\r",
        "Read 26.8% of 10910000 rows\r",
        "Read 33.4% of 10910000 rows\r",
        "Read 39.8% of 10910000 rows\r",
        "Read 46.2% of 10910000 rows\r",
        "Read 52.4% of 10910000 rows\r",
        "Read 58.8% of 10910000 rows\r",
        "Read 65.0% of 10910000 rows\r",
        "Read 71.0% of 10910000 rows\r",
        "Read 77.1% of 10910000 rows\r",
        "Read 83.9% of 10910000 rows\r",
        "Read 90.7% of 10910000 rows\r",
        "Read 97.5% of 10910000 rows\r",
        "Read 10910000 rows and 11 (of 11) columns from 1.512 GB file in 00:00:22\n"
       ]
      }
     ],
     "prompt_number": 7
    },
    {
     "cell_type": "code",
     "collapsed": false,
     "input": [
      "%%R\n",
      "## merging amp & mg tables\n",
      "tbl = rbind(tbl.amp, tbl.mg)\n",
      "tbl.amp = vector()  # clearing memory\n",
      "tbl.mg = vector()\n",
      "\n",
      "tbl.bin = rbind(tbl.bin.amp, tbl.bin.mg)\n",
      "tbl.bin.amp = vector()\n",
      "tbl.bin.mg = vector()"
     ],
     "language": "python",
     "metadata": {},
     "outputs": [],
     "prompt_number": 8
    },
    {
     "cell_type": "code",
     "collapsed": false,
     "input": [
      "%%R\n",
      "# editing $file names\n",
      "tbl[, file:=gsub(\"skewnorm_m15k_r4k-20k\", \"Fragment size\\ndistribution: 12.5kb\", file)]\n",
      "tbl[, file:=gsub(\"skewnorm_m10k_r4k-11.5k\", \"Fragment size\\ndistribution: 6kb\", file)]\n",
      "\n",
      "tbl.bin[, file:=gsub(\"skewnorm_m15k_r4k-20k\", \"Fragment size\\ndistribution: 12.5kb\", file)]\n",
      "tbl.bin[, file:=gsub(\"skewnorm_m10k_r4k-11.5k\", \"Fragment size\\ndistribution: 6kb\", file)]"
     ],
     "language": "python",
     "metadata": {},
     "outputs": [
      {
       "metadata": {},
       "output_type": "display_data",
       "text": [
        "                                               genome scaffold           read\n",
        "     1:                Acaryochloris_marina_MBIC11017       NA             NA\n",
        "     2:                Acaryochloris_marina_MBIC11017       NA             NA\n",
        "     3:                Acaryochloris_marina_MBIC11017       NA             NA\n",
        "     4:                Acaryochloris_marina_MBIC11017       NA             NA\n",
        "     5:                Acaryochloris_marina_MBIC11017       NA             NA\n",
        "    ---                                                                      \n",
        "484400: secondary_endosymbiont_of_Heteropsylla_cubana CP003547 CP003547__9612\n",
        "484401: secondary_endosymbiont_of_Heteropsylla_cubana       NA             NA\n",
        "484402: secondary_endosymbiont_of_Heteropsylla_cubana CP003547 CP003547__3381\n",
        "484403: secondary_endosymbiont_of_Heteropsylla_cubana       NA             NA\n",
        "484404: secondary_endosymbiont_of_Heteropsylla_cubana CP003547 CP003547__8890\n",
        "         read_GC read_buoyant_density read_start read_length fragment_GC\n",
        "     1:       NA                   NA         NA          NA          NA\n",
        "     2:       NA                   NA         NA          NA          NA\n",
        "     3:       NA                   NA         NA          NA          NA\n",
        "     4:       NA                   NA         NA          NA          NA\n",
        "     5:       NA                   NA         NA          NA          NA\n",
        "    ---                                                                 \n",
        "484400: 41.39535             1.700567     526604         215    49.07049\n",
        "484401:       NA                   NA         NA          NA          NA\n",
        "484402: 12.55814             1.672307    1698730         215    30.88353\n",
        "484403:       NA                   NA         NA          NA          NA\n",
        "484404: 55.81395             1.714698     523505         215    31.53460\n",
        "        fragment_buoyant_density fragment_start fragment_length bin_min bin_max\n",
        "     1:                       NA             NA              NA   1.701   1.702\n",
        "     2:                       NA             NA              NA   1.715   1.716\n",
        "     3:                       NA             NA              NA   1.725   1.726\n",
        "     4:                       NA             NA              NA   1.759   1.760\n",
        "     5:                       NA             NA              NA   1.768   1.769\n",
        "    ---                                                                        \n",
        "484400:                 1.708089         523345            5164   1.708   1.709\n",
        "484401:                       NA             NA              NA   1.766   1.767\n",
        "484402:                 1.690266        1697065            6259   1.672   1.673\n",
        "484403:                       NA             NA              NA   1.748   1.749\n",
        "484404:                 1.690904         518752            6171   1.714   1.715\n",
        "        read_count frag_count   median median_rank\n",
        "     1:          0          0 1.708869         511\n",
        "     2:          0          0 1.708869         511\n",
        "     3:          0          0 1.708869         511\n",
        "     4:          0          0 1.708869         511\n",
        "     5:          0          0 1.708869         511\n",
        "    ---                                           \n",
        "484400:         16          2 1.687726          47\n",
        "484401:          0          0 1.687726          47\n",
        "484402:         90          0 1.687726          47\n",
        "484403:          0          0 1.687726          47\n",
        "484404:          3          0 1.687726          47\n",
        "                                       file genome_GC genome_GC_rank\n",
        "     1: Fragment size\\ndistribution: 12.5kb 0.4647920            519\n",
        "     2: Fragment size\\ndistribution: 12.5kb 0.4647920            519\n",
        "     3: Fragment size\\ndistribution: 12.5kb 0.4647920            519\n",
        "     4: Fragment size\\ndistribution: 12.5kb 0.4647920            519\n",
        "     5: Fragment size\\ndistribution: 12.5kb 0.4647920            519\n",
        "    ---                                                             \n",
        "484400:    Fragment size\\ndistribution: 6kb 0.2842883             59\n",
        "484401:    Fragment size\\ndistribution: 6kb 0.2842883             59\n",
        "484402:    Fragment size\\ndistribution: 6kb 0.2842883             59\n",
        "484403:    Fragment size\\ndistribution: 6kb 0.2842883             59\n",
        "484404:    Fragment size\\ndistribution: 6kb 0.2842883             59\n",
        "                       data\n",
        "     1: amplicon\\nfragments\n",
        "     2: amplicon\\nfragments\n",
        "     3: amplicon\\nfragments\n",
        "     4: amplicon\\nfragments\n",
        "     5: amplicon\\nfragments\n",
        "    ---                    \n",
        "484400:  shotgun\\nfragments\n",
        "484401:  shotgun\\nfragments\n",
        "484402:  shotgun\\nfragments\n",
        "484403:  shotgun\\nfragments\n",
        "484404:  shotgun\\nfragments\n"
       ]
      }
     ],
     "prompt_number": 29
    },
    {
     "cell_type": "markdown",
     "metadata": {},
     "source": [
      "### Fragment length distributions"
     ]
    },
    {
     "cell_type": "code",
     "collapsed": false,
     "input": [
      "%%R -h 5 -w 9 -u in\n",
      "# summarizing fragment length distribution\n",
      "##print( tbl[, summary(fragment_length), by='file,data'] )\n",
      "\n",
      "# plot of fragment lengths\n",
      "p = ggplot(tbl, aes(fragment_length)) +\n",
      "        geom_histogram(binwidth=100) +\n",
      "        labs(x='Fragment length (bp)', y='Count') +\n",
      "        facet_grid(data ~ file, scales='free') +\n",
      "        theme(\n",
      "            text = element_text(size=16),\n",
      "            axis.text.x = element_text(angle=45)\n",
      "            )\n",
      "\n",
      "ggsave(\"~/notebook/deltaGC_notes/data/amp-mg/figures/frag-len-dist_bac.tiff\", dpi=300, height=5, width=9, units='in')\n",
      "print(p)"
     ],
     "language": "python",
     "metadata": {},
     "outputs": [
      {
       "metadata": {},
       "output_type": "display_data",
       "text": [
        "Saving 9 x 5 in image\n"
       ]
      },
      {
       "metadata": {},
       "output_type": "display_data",
       "png": ""
      }
     ],
     "prompt_number": 180
    },
    {
     "cell_type": "markdown",
     "metadata": {},
     "source": [
      "### Simulating label incorporation"
     ]
    },
    {
     "cell_type": "code",
     "collapsed": false,
     "input": [
      "%%R\n",
      "# simulating label incorporation by moving fragment buoyant density\n",
      "## 100% 15N\n",
      "tbl[, label_inc_15N := fragment_buoyant_density + 0.016]\n",
      "\n",
      "## 100% 13C\n",
      "tbl[, label_inc_13C := fragment_buoyant_density + 0.036]"
     ],
     "language": "python",
     "metadata": {},
     "outputs": [
      {
       "metadata": {},
       "output_type": "display_data",
       "text": [
        "                                 genome scaffold           read  read_GC\n",
        "       1:  Agrobacterium_fabrum_str_C58 AE007869  AE007869__499 52.55814\n",
        "       2:  Agrobacterium_fabrum_str_C58 AE007869  AE007869__498 52.55814\n",
        "       3:  Agrobacterium_fabrum_str_C58 AE007869  AE007869__495 52.55814\n",
        "       4:  Agrobacterium_fabrum_str_C58 AE007869  AE007869__497 52.55814\n",
        "       5:  Agrobacterium_fabrum_str_C58 AE007869  AE007869__496 52.55814\n",
        "      ---                                                               \n",
        "24001996: Salmonella_bongori_NCTC_12419 FR877557 FR877557__2790 57.20930\n",
        "24001997: Salmonella_bongori_NCTC_12419 FR877557 FR877557__2797 29.76744\n",
        "24001998: Salmonella_bongori_NCTC_12419 FR877557 FR877557__2796 44.18605\n",
        "24001999: Salmonella_bongori_NCTC_12419 FR877557 FR877557__2795 50.23256\n",
        "24002000: Salmonella_bongori_NCTC_12419 FR877557 FR877557__2794 53.95349\n",
        "          read_buoyant_density read_start read_length fragment_GC\n",
        "       1:             1.711507     114437         215    53.02019\n",
        "       2:             1.711507     114437         215    55.41002\n",
        "       3:             1.711507    5035543         215    52.92066\n",
        "       4:             1.711507    5035543         215    53.45668\n",
        "       5:             1.711507     114437         215    56.14006\n",
        "      ---                                                        \n",
        "24001996:             1.716065    1863392         215    53.96161\n",
        "24001997:             1.689172    8744011         215    44.52086\n",
        "24001998:             1.703302    8668917         215    46.68961\n",
        "24001999:             1.709228    6849897         215    54.76029\n",
        "24002000:             1.712874    3975166         215    45.70962\n",
        "          fragment_buoyant_density fragment_start fragment_length\n",
        "       1:                 1.711960         114273           12284\n",
        "       2:                 1.714302         107900           14048\n",
        "       3:                 1.711862        5024735           14911\n",
        "       4:                 1.712388        5030946           10053\n",
        "       5:                 1.715017         107683           12109\n",
        "      ---                                                        \n",
        "24001996:                 1.712882        1861101            5730\n",
        "24001997:                 1.703630        8742874            6543\n",
        "24001998:                 1.705756        8667460            6102\n",
        "24001999:                 1.713665        6849320            5882\n",
        "24002000:                 1.704795        3972279            6130\n",
        "                                         file                data label_inc_15N\n",
        "       1: Fragment size\\ndistribution: 12.5kb amplicon\\nfragments      1.727960\n",
        "       2: Fragment size\\ndistribution: 12.5kb amplicon\\nfragments      1.730302\n",
        "       3: Fragment size\\ndistribution: 12.5kb amplicon\\nfragments      1.727862\n",
        "       4: Fragment size\\ndistribution: 12.5kb amplicon\\nfragments      1.728388\n",
        "       5: Fragment size\\ndistribution: 12.5kb amplicon\\nfragments      1.731017\n",
        "      ---                                                                      \n",
        "24001996:    Fragment size\\ndistribution: 6kb  shotgun\\nfragments      1.728882\n",
        "24001997:    Fragment size\\ndistribution: 6kb  shotgun\\nfragments      1.719630\n",
        "24001998:    Fragment size\\ndistribution: 6kb  shotgun\\nfragments      1.721756\n",
        "24001999:    Fragment size\\ndistribution: 6kb  shotgun\\nfragments      1.729665\n",
        "24002000:    Fragment size\\ndistribution: 6kb  shotgun\\nfragments      1.720795\n",
        "          label_inc_13C\n",
        "       1:      1.747960\n",
        "       2:      1.750302\n",
        "       3:      1.747862\n",
        "       4:      1.748388\n",
        "       5:      1.751017\n",
        "      ---              \n",
        "24001996:      1.748882\n",
        "24001997:      1.739630\n",
        "24001998:      1.741756\n",
        "24001999:      1.749665\n",
        "24002000:      1.740795\n"
       ]
      }
     ],
     "prompt_number": 12
    },
    {
     "cell_type": "markdown",
     "metadata": {},
     "source": [
      "### Making heatmap of buoyant density: 12.5 kb fragment size"
     ]
    },
    {
     "cell_type": "code",
     "collapsed": false,
     "input": [
      "%%R\n",
      "# parsing out rows & columns needed for fragment density plot\n",
      "tbl.p = subset(tbl, file==\"Fragment size\\ndistribution: 12.5kb\")\n",
      "tbl.p = tbl.p[, c('data','fragment_buoyant_density', 'label_inc_15N', 'label_inc_13C'), with=F]\n",
      "\n",
      "## editing data column\n",
      "tbl.p[data == 'amplicon\\nfragments', data:='amplicon-fragments']\n",
      "tbl.p[data == 'shotgun\\nfragments', data:='shotgun-fragments']\n",
      "\n",
      "## melting\n",
      "tbl.m = melt(tbl.p, id.vars=c('data'))\n"
     ],
     "language": "python",
     "metadata": {},
     "outputs": [],
     "prompt_number": 181
    },
    {
     "cell_type": "code",
     "collapsed": false,
     "input": [
      "%%R -w 170 -h 300\n",
      "## making the density plots for amplicons & shotgun sequences\n",
      "make_density_plot <- function(tbl, x.axis=TRUE){\n",
      "    p = ggplot(tbl, aes(value, group=variable, fill=variable, \n",
      "                                 alpha=variable, linetype=variable)) +   \n",
      "            geom_density() +\n",
      "            scale_linetype_manual(values=c('solid', 'dashed', 'dashed')) +\n",
      "            scale_fill_manual(values=c('blue', 'red', 'green')) +\n",
      "            scale_alpha_manual(values=c(0.7, 0.15, 0.15)) +\n",
      "            scale_x_reverse(limits=c(1.77,1.66)) +\n",
      "            coord_flip() + \n",
      "            facet_grid(data ~ .) +\n",
      "            labs(y='Kernel density') +\n",
      "            theme( \n",
      "                text = element_text(size=18),\n",
      "                axis.title.y = element_blank(),\n",
      "                axis.text.x = element_blank(),\n",
      "                axis.ticks.x = element_blank(),\n",
      "                axis.text.y = element_blank(),\n",
      "                axis.ticks.y = element_blank(),\n",
      "                strip.text.y = element_text(size=18),\n",
      "                legend.position = 'none'\n",
      "                )\n",
      "    # removing x axis title if needed\n",
      "    if(x.axis==FALSE){   # no x-axis, top plot\n",
      "        p = p + theme( axis.title.x = element_blank() )\n",
      "        p = p + theme( plot.margin = unit(c(1,1,0,0), \"lines\") ) # top, right, bottom, left\n",
      "    } else {\n",
      "        p = p + theme( plot.margin = unit(c(0,1,1,0), \"lines\") ) # top, right, bottom, left\n",
      "    }\n",
      "    return(p)\n",
      "}\n",
      "\n",
      "### amplicon\n",
      "p.dense.amp = make_density_plot( tbl.m[tbl.m$data=='amplicon-fragments', ], x.axis=FALSE)\n",
      "print(p.dense.amp)\n",
      "### shotgun\n",
      "p.dense.shotgun = make_density_plot( tbl.m[tbl.m$data=='shotgun-fragments', ] )\n",
      "print(p.dense.shotgun)"
     ],
     "language": "python",
     "metadata": {},
     "outputs": [
      {
       "metadata": {},
       "output_type": "display_data",
       "png": "[encoded data removed]"
      },
      {
       "metadata": {},
       "output_type": "display_data",
       "png": "[encoded data removed]"
      }
     ],
     "prompt_number": 195
    },
    {
     "cell_type": "code",
     "collapsed": false,
     "input": [
      "%%R\n",
      "# parsing out columns & rows needed for heatmap plotting\n",
      "tbl.bin.p = subset(tbl.bin, file==\"Fragment size\\ndistribution: 12.5kb\")\n",
      "tbl.bin.p = tbl.bin.p[, c('data', 'genome_GC_rank', 'bin_min', 'frag_count'), with=F]\n",
      "\n",
      "## editing data column\n",
      "tbl.bin.p[data == 'amplicon\\nfragments', data:='amplicon-fragments']\n",
      "tbl.bin.p[data == 'shotgun\\nfragments', data:='shotgun-fragments']\n"
     ],
     "language": "python",
     "metadata": {},
     "outputs": [
      {
       "metadata": {},
       "output_type": "display_data",
       "text": [
        "                      data genome_GC_rank bin_min frag_count\n",
        "     1: amplicon-fragments            519   1.701          0\n",
        "     2: amplicon-fragments            519   1.715          0\n",
        "     3: amplicon-fragments            519   1.725          0\n",
        "     4: amplicon-fragments            519   1.759          0\n",
        "     5: amplicon-fragments            519   1.768          0\n",
        "    ---                                                     \n",
        "242198:  shotgun-fragments             59   1.708          0\n",
        "242199:  shotgun-fragments             59   1.766          0\n",
        "242200:  shotgun-fragments             59   1.672          0\n",
        "242201:  shotgun-fragments             59   1.748          0\n",
        "242202:  shotgun-fragments             59   1.714          0\n"
       ]
      }
     ],
     "prompt_number": 196
    },
    {
     "cell_type": "code",
     "collapsed": false,
     "input": [
      "%%R -h 500 -w 900\n",
      "# making heatmaps of buoyant density distributions\n",
      "make_density_heatmap <- function(tbl, x.axis=TRUE){\n",
      "\n",
      "    ## heatmap colors: black only for lowest value\n",
      "    cols = c(\n",
      "    rep(\"#000000\", 1),\n",
      "    rep(\"darkblue\", 99),\n",
      "    rep(\"#1F1FFF\", 100),\n",
      "    rep(\"#3F3FFF\", 100),\n",
      "    rep(\"#5F5FFF\", 100),\n",
      "    rep(\"#7F7FFF\", 100),\n",
      "    rep(\"#9F9FFF\", 100),\n",
      "    rep(\"#BFBFFF\", 100),\n",
      "    rep(\"#DFDFFF\", 100),\n",
      "    rep(\"#FFFFFF\", 100)\n",
      "    )\n",
      "\n",
      "\n",
      "    ## heatmap plotting\n",
      "    p.heat = ggplot(tbl, aes(genome_GC_rank, bin_min, fill=frag_count)) +\n",
      "        geom_tile() +\n",
      "        scale_alpha_continuous( guide=FALSE ) +\n",
      "        scale_fill_gradientn( colours=cols, name='Count' ) +\n",
      "        scale_x_continuous( expand = c(0,0) ) +\n",
      "        scale_y_reverse( expand = c(0,0), limits=c(1.77,1.66) ) +\n",
      "        labs( x='Genome (ordered by genome G+C content)', y='Fragment buoyant density') +\n",
      "        facet_grid(data ~ .) +\n",
      "        theme(\n",
      "            text = element_text(size=18),\n",
      "            axis.text.x = element_blank(),\n",
      "            axis.ticks.x = element_blank(),\n",
      "            axis.title.y = element_text(vjust=0.4),\n",
      "            legend.justification=c(0,0),\n",
      "            legend.position=c(0,0),\n",
      "            legend.text = element_text(size=14),\n",
      "            plot.margin = unit(c(0,0,0,1), \"lines\") # top, right, bottom, left\n",
      "            )\n",
      "    # removing x axis title if needed\n",
      "    if(x.axis==FALSE){  # no x-axis; top plot\n",
      "        p.heat = p.heat + theme( axis.title.x = element_blank() )\n",
      "        p.heat = p.heat + theme( plot.margin = unit(c(1,0,0,1), \"lines\") ) # top, right, bottom, left\n",
      "    } else {\n",
      "        p.heat = p.heat + theme( plot.margin = unit(c(0,0,1,1), \"lines\") ) # top, right, bottom, left\n",
      "    }\n",
      "    \n",
      "    g <- ggplotGrob(p.heat)\n",
      "    keep <- !grepl(\"strip-right\", g$layout$name)\n",
      "    g$grobs <- g$grobs[keep]\n",
      "    g$layout <- g$layout[keep, ]\n",
      "    \n",
      "    return(g)\n",
      "}\n",
      "\n",
      "\n",
      "### amplicon\n",
      "p.heat.amp = make_density_heatmap( tbl.bin.p[tbl.bin.p$data=='amplicon-fragments', ], x.axis=FALSE )\n",
      "print(p.heat.amp)\n",
      "### shotgun\n",
      "p.heat.shotgun = make_density_heatmap( tbl.bin.p[tbl.bin.p$data=='shotgun-fragments', ] )\n",
      "print(p.heat.shotgun)\n"
     ],
     "language": "python",
     "metadata": {},
     "outputs": [
      {
       "metadata": {},
       "output_type": "display_data",
       "text": [
        "TableGrob (6 x 6) \"layout\": 8 grobs\n",
        "  z     cells       name                                  grob\n",
        "1 0 (1-6,1-6) background      rect[plot.background.rect.11487]\n",
        "2 2 (3-3,3-3)     axis-l absoluteGrob[GRID.absoluteGrob.11452]\n",
        "3 1 (3-3,4-4)      panel               gTree[GRID.gTree.11472]\n",
        "4 4 (4-4,4-4)     axis-b absoluteGrob[GRID.absoluteGrob.11446]\n",
        "5 5 (5-5,4-4)       xlab zeroGrob[axis.title.x.zeroGrob.11473]\n",
        "6 6 (3-3,2-2)       ylab         text[axis.title.y.text.11475]\n",
        "7 7 (3-3,4-4)  guide-box                     gtable[guide-box]\n",
        "8 8 (2-2,4-4)      title           text[plot.title.text.11485]\n",
        "TableGrob (6 x 6) \"layout\": 8 grobs\n",
        "  z     cells       name                                  grob\n",
        "1 0 (1-6,1-6) background      rect[plot.background.rect.11535]\n",
        "2 2 (3-3,3-3)     axis-l absoluteGrob[GRID.absoluteGrob.11499]\n",
        "3 1 (3-3,4-4)      panel               gTree[GRID.gTree.11519]\n",
        "4 4 (4-4,4-4)     axis-b absoluteGrob[GRID.absoluteGrob.11493]\n",
        "5 5 (5-5,4-4)       xlab         text[axis.title.x.text.11521]\n",
        "6 6 (3-3,2-2)       ylab         text[axis.title.y.text.11523]\n",
        "7 7 (3-3,4-4)  guide-box                     gtable[guide-box]\n",
        "8 8 (2-2,4-4)      title           text[plot.title.text.11533]\n"
       ]
      },
      {
       "metadata": {},
       "output_type": "display_data",
       "png": "[encoded data removed]"
      }
     ],
     "prompt_number": 197
    },
    {
     "cell_type": "code",
     "collapsed": false,
     "input": [
      "%%R -h 8 -w 16 -u in\n",
      "# combined plots\n",
      "tiff( \"~/notebook/deltaGC_notes/data/amp-mg/figures/dense-htmp_12.5kb.tiff\", width=17, height=8, units='in', res=300 )\n",
      "    grid.arrange(p.heat.amp, p.dense.amp, p.heat.shotgun, p.dense.shotgun, nrow=2, ncol=2, widths=c(7,1))\n",
      "dev.off()"
     ],
     "language": "python",
     "metadata": {},
     "outputs": [
      {
       "metadata": {},
       "output_type": "display_data",
       "text": [
        "png \n",
        "  2 \n"
       ]
      }
     ],
     "prompt_number": 206
    },
    {
     "cell_type": "markdown",
     "metadata": {},
     "source": [
      "### Making heatmap of buoyant density: 6kb fragment size"
     ]
    },
    {
     "cell_type": "code",
     "collapsed": false,
     "input": [
      "%%R\n",
      "# parsing out rows & columns needed for fragment density plot\n",
      "tbl.p = subset(tbl, file==\"Fragment size\\ndistribution: 6kb\")\n",
      "tbl.p = tbl.p[, c('data','fragment_buoyant_density', 'label_inc_15N', 'label_inc_13C'), with=F]\n",
      "\n",
      "## editing data column\n",
      "tbl.p[data == 'amplicon\\nfragments', data:='amplicon-fragments']\n",
      "tbl.p[data == 'shotgun\\nfragments', data:='shotgun-fragments']\n",
      "\n",
      "## melting\n",
      "tbl.m = melt(tbl.p, id.vars=c('data'))\n"
     ],
     "language": "python",
     "metadata": {},
     "outputs": [],
     "prompt_number": 212
    },
    {
     "cell_type": "code",
     "collapsed": false,
     "input": [
      "%%R -w 170 -h 300\n",
      "# making density plots\n",
      "### amplicon\n",
      "p.dense.amp = make_density_plot( tbl.m[tbl.m$data=='amplicon-fragments', ], x.axis=FALSE)\n",
      "print(p.dense.amp)\n",
      "### shotgun\n",
      "p.dense.shotgun = make_density_plot( tbl.m[tbl.m$data=='shotgun-fragments', ] )\n",
      "print(p.dense.shotgun)"
     ],
     "language": "python",
     "metadata": {},
     "outputs": [
      {
       "metadata": {},
       "output_type": "display_data",
       "png": "[encoded data removed]"
      },
      {
       "metadata": {},
       "output_type": "display_data",
       "png": "[encoded data removed]"
      }
     ],
     "prompt_number": 213
    },
    {
     "cell_type": "code",
     "collapsed": false,
     "input": [
      "%%R\n",
      "# parsing out columns & rows needed for heatmap plotting\n",
      "tbl.bin.p = subset(tbl.bin, file==\"Fragment size\\ndistribution: 6kb\")\n",
      "tbl.bin.p = tbl.bin.p[, c('data', 'genome_GC_rank', 'bin_min', 'frag_count'), with=F]\n",
      "\n",
      "## editing data column\n",
      "tbl.bin.p[data == 'amplicon\\nfragments', data:='amplicon-fragments']\n",
      "tbl.bin.p[data == 'shotgun\\nfragments', data:='shotgun-fragments']\n"
     ],
     "language": "python",
     "metadata": {},
     "outputs": [
      {
       "metadata": {},
       "output_type": "display_data",
       "text": [
        "                      data genome_GC_rank bin_min frag_count\n",
        "     1: amplicon-fragments            519   1.701          0\n",
        "     2: amplicon-fragments            519   1.715          0\n",
        "     3: amplicon-fragments            519   1.725          0\n",
        "     4: amplicon-fragments            519   1.759          0\n",
        "     5: amplicon-fragments            519   1.768          0\n",
        "    ---                                                     \n",
        "242198:  shotgun-fragments             59   1.708          2\n",
        "242199:  shotgun-fragments             59   1.766          0\n",
        "242200:  shotgun-fragments             59   1.672          0\n",
        "242201:  shotgun-fragments             59   1.748          0\n",
        "242202:  shotgun-fragments             59   1.714          0\n"
       ]
      }
     ],
     "prompt_number": 214
    },
    {
     "cell_type": "code",
     "collapsed": false,
     "input": [
      "%%R\n",
      "# making density heatmaps \n",
      "### amplicon\n",
      "p.heat.amp = make_density_heatmap( tbl.bin.p[tbl.bin.p$data=='amplicon-fragments', ], x.axis=FALSE )\n",
      "print(p.heat.amp)\n",
      "### shotgun\n",
      "p.heat.shotgun = make_density_heatmap( tbl.bin.p[tbl.bin.p$data=='shotgun-fragments', ] )\n",
      "print(p.heat.shotgun)"
     ],
     "language": "python",
     "metadata": {},
     "outputs": [
      {
       "metadata": {},
       "output_type": "display_data",
       "text": [
        "TableGrob (6 x 6) \"layout\": 8 grobs\n",
        "  z     cells       name                                  grob\n",
        "1 0 (1-6,1-6) background      rect[plot.background.rect.12984]\n",
        "2 2 (3-3,3-3)     axis-l absoluteGrob[GRID.absoluteGrob.12949]\n",
        "3 1 (3-3,4-4)      panel               gTree[GRID.gTree.12969]\n",
        "4 4 (4-4,4-4)     axis-b absoluteGrob[GRID.absoluteGrob.12943]\n",
        "5 5 (5-5,4-4)       xlab zeroGrob[axis.title.x.zeroGrob.12970]\n",
        "6 6 (3-3,2-2)       ylab         text[axis.title.y.text.12972]\n",
        "7 7 (3-3,4-4)  guide-box                     gtable[guide-box]\n",
        "8 8 (2-2,4-4)      title           text[plot.title.text.12982]\n",
        "TableGrob (6 x 6) \"layout\": 8 grobs\n",
        "  z     cells       name                                  grob\n",
        "1 0 (1-6,1-6) background      rect[plot.background.rect.13032]\n",
        "2 2 (3-3,3-3)     axis-l absoluteGrob[GRID.absoluteGrob.12996]\n",
        "3 1 (3-3,4-4)      panel               gTree[GRID.gTree.13016]\n",
        "4 4 (4-4,4-4)     axis-b absoluteGrob[GRID.absoluteGrob.12990]\n",
        "5 5 (5-5,4-4)       xlab         text[axis.title.x.text.13018]\n",
        "6 6 (3-3,2-2)       ylab         text[axis.title.y.text.13020]\n",
        "7 7 (3-3,4-4)  guide-box                     gtable[guide-box]\n",
        "8 8 (2-2,4-4)      title           text[plot.title.text.13030]\n"
       ]
      },
      {
       "metadata": {},
       "output_type": "display_data",
       "png": "[encoded data removed]"
      }
     ],
     "prompt_number": 215
    },
    {
     "cell_type": "code",
     "collapsed": false,
     "input": [
      "%%R -h 600 -w 1200\n",
      "# combined plots\n",
      "tiff( \"~/notebook/deltaGC_notes/data/amp-mg/figures/dense-htmp_6kb.tiff\", width=17, height=8, units='in', res=300 )\n",
      "    grid.arrange(p.heat.amp, p.dense.amp, p.heat.shotgun, p.dense.shotgun, nrow=2, ncol=2, widths=c(7,1))\n",
      "dev.off()"
     ],
     "language": "python",
     "metadata": {},
     "outputs": [
      {
       "metadata": {},
       "output_type": "display_data",
       "text": [
        "png \n",
        "  2 \n"
       ]
      }
     ],
     "prompt_number": 216
    },
    {
     "cell_type": "markdown",
     "metadata": {},
     "source": [
      "***"
     ]
    },
    {
     "cell_type": "markdown",
     "metadata": {},
     "source": [
      "## Calculating fragment overlap for labeled and unlabeled DNA"
     ]
    },
    {
     "cell_type": "code",
     "collapsed": false,
     "input": [
      "%%R\n",
      "# simulating label incorporation by moving fragment buoyant density\n",
      "tbl[, label_inc_no := fragment_buoyant_density]\n",
      "tbl[, label_inc_N := fragment_buoyant_density + 0.016]\n",
      "tbl[, label_inc_C := fragment_buoyant_density + 0.036]\n",
      "\n",
      "# melting table\n",
      "require(reshape)\n",
      "tbl.m = melt(tbl[, c('file', 'data', 'label_inc_no', 'label_inc_N', 'label_inc_C'), with=F], \n",
      "                 id.vars=c('file', 'data'))\n"
     ],
     "language": "python",
     "metadata": {},
     "outputs": []
    },
    {
     "cell_type": "code",
     "collapsed": false,
     "input": [
      "%%R\n",
      "# making histograms for each fragment size\n",
      "\n",
      "## getting unique file|data categories\n",
      "u.cat = as.matrix(unique(tbl[, c('file','data'), with=F]))\n",
      "\n",
      "breaks = seq(1.660, 1.781, 0.001)\n",
      "hist.l = list(list(list()))\n",
      "for(i in 1:nrow(u.cat)){\n",
      "    r = u.cat[i,]\n",
      "    tmp = subset(tbl, file == r[1] & data == r[2] )\n",
      "    hist.l[[r[1]]][[r[2]]][['no']] = hist( tmp$label_inc_no, breaks=breaks )\n",
      "    hist.l[[r[1]]][[r[2]]][['N']] = hist( tmp$label_inc_N, breaks=breaks )\n",
      "    hist.l[[r[1]]][[r[2]]][['C']] = hist( tmp$label_inc_C, breaks=breaks )\n",
      "}\n",
      "\n",
      "#print(hist.l)\n",
      "xxx=1"
     ],
     "language": "python",
     "metadata": {},
     "outputs": []
    },
    {
     "cell_type": "code",
     "collapsed": false,
     "input": [
      "%%R\n",
      "# calculating intersect of histograms\n",
      "require(HistogramTools)\n",
      "\n",
      "for(file in names(hist.l)){\n",
      "    if(file == ''){next}\n",
      "    for(data in names(hist.l[[file]])){\n",
      "        if(data == ''){next}\n",
      "        hist.no = hist.l[[file]][[data]][['no']]\n",
      "        hist.N = hist.l[[file]][[data]][['N']]\n",
      "        hist.C = hist.l[[file]][[data]][['C']]\n",
      "        \n",
      "        no.N = sum(IntersectHistograms(hist.no, hist.N)$counts) / sum(hist.no$counts) * 100\n",
      "        no.C = sum(IntersectHistograms(hist.no, hist.C)$counts) / sum(hist.no$counts) * 100  \n",
      "        print(c(file, data, no.N, no.C))\n",
      "    }\n",
      "}"
     ],
     "language": "python",
     "metadata": {},
     "outputs": []
    },
    {
     "cell_type": "code",
     "collapsed": false,
     "input": [
      "## Fragment size distribution boxplots"
     ],
     "language": "python",
     "metadata": {},
     "outputs": []
    },
    {
     "cell_type": "code",
     "collapsed": false,
     "input": [
      "%%R -w 7 -h 4 -u in\n",
      "# q5-q95 range\n",
      "tbl[, q05.q95 := quantile(fragment_buoyant_density, 0.95) - quantile(fragment_buoyant_density,0.05), by='file,data,genome']\n",
      "\n",
      "# dereplicating by file,data,genome,q05.q95\n",
      "tbl.s = tbl[, sum(1), by='file,data,genome,q05.q95']\n",
      "\n",
      "# plotting \n",
      "p = ggplot( tbl.s, aes(data, q05.q95) ) +\n",
      "        geom_boxplot() +\n",
      "        labs(x='fragment simulation', y='Buoyant density range\\n(95% of all fragments)') +\n",
      "        facet_grid(. ~ file) +        \n",
      "        theme( \n",
      "            text = element_text(size=16),\n",
      "            axis.title.x = element_blank()\n",
      "            )\n",
      "ggsave(\"~/notebook/deltaGC_notes/data/amp-mg/figures/BD-95range_bac_boxplot.pdf\")\n",
      "print(p)"
     ],
     "language": "python",
     "metadata": {},
     "outputs": [
      {
       "metadata": {},
       "output_type": "display_data",
       "text": [
        "Saving 7 x 4 in image\n"
       ]
      },
      {
       "metadata": {},
       "output_type": "display_data",
       "png": "[encoded data removed]"
      }
     ],
     "prompt_number": 219
    },
    {
     "cell_type": "markdown",
     "metadata": {},
     "source": [
      "***"
     ]
    },
    {
     "cell_type": "markdown",
     "metadata": {},
     "source": [
      "# Archaea"
     ]
    },
    {
     "cell_type": "markdown",
     "metadata": {},
     "source": [
      "## Grinder simulations \n",
      "\n",
      "### Amplicions\n",
      "\n",
      "#### running grinder on each genome individually\n",
      "\n",
      "    @ system76-server:~/notebook/deltaGC/data/amplicon/140416_allArc/amp454-L215-N1k\n",
      "    \n",
      "    mkdir read_files\n",
      "    \n",
      "    for file in `find ~/notebook/deltaGC_notes/data/genome_data/prok-arc-genomes_Ngaps -name \"*fasta\" | perl -pe 's/.+\\///'`\n",
      "    do\n",
      "        grinder -reference_file ~/notebook/deltaGC_notes/data/genome_data/prok-arc-genomes_Ngaps/$file  -abundance_model uniform -forward_reverse ../515Fm-927Rm.fna -rd 215 normal 0 -tr 1000 -copy_bias 0 -length_bias 0 -unidirectional 1 -bn read_files/$file\n",
      "    done\n",
      "        * had to use for loop because some genomes did not produce any amplicons\n",
      "        * 101 of the 119 genomes had amplicons\n",
      "         * all have 1000 reads\n",
      "        \n",
      "_Combining read files_\n",
      "\n",
      "    @ system76-server:~/notebook/deltaGC/data/amplicon/140416_allArc/amp454-L215-N1k\n",
      "\n",
      "    grinder_descByFileName.pl ./read_files/ | seqIO.pl -i fasta -o fasta > amp454-L215-N1k_reads.fa\n",
      "\n",
      "        * seqIO.pl used to make line wrapping consistent\n",
      "        * grinder_descByFileName.pl corrects for any multi-chromosome issues\n",
      "        * reads for 101 genomes\n",
      "        * 101000 total reads\n",
      "\n",
      "#### deltaGC using left-skewed normal distribution\n",
      "\n",
      "@ system76-server:~/notebook/deltaGC_notes/data/amplicon/140416_allArc/amp454-L215-N1k\n",
      "    \n",
      "    ln -s ~/notebook/deltaGC_notes/data/genome_data/prokArc-CompRep.fna ../\n",
      "\n",
      "    deltaGC.pl -a -g ../prokArc-CompRep.fna -r amp454-L215-N1k_reads.fa -range 4000-20000 -mean 15000 -sd f -t 12 > skewnorm_m15k_r4k-20k.txt\n",
      "    \n",
      "    deltaGC.pl -a -g ../prokArc-CompRep.fna -r amp454-L215-N1k_reads.fa -range 4000-11500 -mean 10000 -sd f -df 50 50 -t 12 -i  > skewnorm_m10k_r4k-11.5k.txt\n",
      "\n",
      "_binning by buoyant density_\n",
      "\n",
      "    deltaGCBin.pl -f 10 skewnorm_m15k_r4k-20k.txt > skewnorm_m15k_r4k-20k_bin.txt\n",
      "    \n",
      "    deltaGCBin.pl -f 12 skewnorm_m10k_r4k-11.5k.txt > skewnorm_m10k_r4k-11.5k_bin.txt\n",
      "    \n",
      "        \n",
      "\n",
      "### Shotgun reads\n",
      "\n",
      "#### running grinder \n",
      "\n",
      "    @ system76-server:~/notebook/deltaGC_notes/data/mg-reads/140417_allArc/mg454-L215-N10k\n",
      "\n",
      "    mkdir read_files\n",
      "\n",
      "    screen -S grinder_batch -L bash -c \\\n",
      "        \"find /home/nick/notebook/deltaGC_notes/data/genome_data/prok-arc-genomes_Ngaps/ -name '*fasta' | \\\n",
      "        perl -pe 's/.+\\///' | xargs -n 1 -I % -P 32 \\\n",
      "        grinder -reference_file /home/nick/notebook/deltaGC_notes/data/genome_data/prok-arc-genomes_Ngaps/% \\\n",
      "        -total_reads 10000 -bn read_files/% -read_dist 215 -length_bias 0 -unidirectional 1\"\n",
      "\n",
      "        * 119 genomes produced shotgun reads\n",
      "        * all have 10000 reads\n",
      "        \n",
      "        \n",
      "_Combining read files_\n",
      "\n",
      "@ system76-server:~/notebook/deltaGC_notes/data/mg-reads/140417_allBac/mg454-L215-N10k\n",
      "\n",
      "* just using genomes that amplified with 515F and 927R primers (consistent with 16S amplicon simulations)\n",
      "\n",
      "    grinder_descByFileName.pl ./read_files/ > mg454-L215-N10k_reads.fa\n",
      "        * combining read files\n",
      "        * correcting multiple chromosome problem; description is now the same for each taxon\n",
      "\n",
      "    grep -f <(find ~/notebook/deltaGC_notes/data/amplicon/140416_allArc/amp454-L215-N1k/read_files/ -name \"*fa\" | perl -pe 's/.+\\/|\\.fasta-read.+//g') mg454-L215-N10k_reads.fa | \\\n",
      "    fasta_selectSeqs.pl -f mg454-L215-N10k_reads.fa -l - | seqIO.pl -i fasta -o fasta > mg454-L215-N10k_reads_e.fa\n",
      "        * 1010000 sequences\n",
      "        * 10000 sequences per genome\n",
      "\n",
      "\n",
      "#### deltaGC using left-skewed normal distribution\n",
      "\n",
      "@ system76-server:~/notebook/deltaGC_notes/data/mg-reads/140417_allBac/mg454-L215-N10k\n",
      "\n",
      "    deltaGC.pl -g /home/nick/notebook/deltaGC_notes/data/genome_data/prokArc-CompRep.fna -r mg454-L215-N10k_reads_e.fa -range 4000-20000 -mean 15000 -sd f -t 12 -p 1 > skewnorm_m15k_r4k-20k.txt\n",
      "\n",
      "    deltaGC.pl -g /home/nick/notebook/deltaGC_notes/data/genome_data/prokArc-CompRep.fna -r mg454-L215-N10k_reads_e.fa -range 4000-11500 -mean 10000 -sd f -df 50 50 -t 12 -i -p 1 > skewnorm_m10k_r4k-11.5k.txt\n",
      "\n",
      "_binning by buoyant density (for heatmap plotting)_\n",
      "\n",
      "    deltaGCBin.pl -f 8 skewnorm_m15k_r4k-20k.txt > skewnorm_m15k_r4k-20k_bin.txt\n",
      "\n",
      "    deltaGCBin.pl -f 8 skewnorm_m10k_r4k-11.5k.txt > skewnorm_m10k_r4k-11.5k_bin.txt\n"
     ]
    },
    {
     "cell_type": "markdown",
     "metadata": {},
     "source": [
      "### Loading amplicon deltaGC data"
     ]
    },
    {
     "cell_type": "code",
     "collapsed": false,
     "input": [
      "%%R\n",
      "base.dir = \"~/notebook/deltaGC_notes/data/amplicon/140416_allArc/amp454-L215-N1k\";\n",
      "files = c(\n",
      "    'skewnorm_m15k_r4k-20k',\n",
      "    'skewnorm_m10k_r4k-11.5k'\n",
      "    )\n",
      "\n",
      "tbl.l = list()\n",
      "for(i in files){\n",
      "    in.file = paste(c(i, \"txt\"), collapse=\".\")\n",
      "    in.file = paste(c(base.dir, in.file), collapse=\"/\")\n",
      "    tbl.l[[i]] = fread(in.file, header=T, sep=\"\\t\")\n",
      "    tbl.l[[i]]$file = rep(i, nrow(tbl.l[[i]]))\n",
      "    }\n",
      "\n",
      "tbl.bin.l = list()\n",
      "for(i in files){\n",
      "    in.file = paste(c(i, \"bin.txt\"), collapse=\"_\")\n",
      "    in.file = paste(c(base.dir, in.file), collapse=\"/\")\n",
      "    tbl.bin.l[[i]] = fread(in.file, header=T, sep=\"\\t\")\n",
      "    tbl.bin.l[[i]]$file = rep(i, nrow(tbl.bin.l[[i]]))\n",
      "    }\n",
      "\n",
      "\n",
      "\n",
      "# loading in genome GC table\n",
      "tbl.genGC = fread(\"~/notebook/deltaGC_notes/data/genome_data/prok-arc-genomes_Ngaps_GC/prok-arc-genomes_Ngaps_GC.txt\",\n",
      "                    header=F)\n",
      "## editing table\n",
      "colnames(tbl.genGC) = c('genome', 'genome_GC')\n",
      "tbl.genGC[,genome:=gsub(\".+\\\\/|\\\\.fasta\", \"\", genome)]\n",
      "\n",
      "## selecting just genomes in other tables\n",
      "tbl.genGC = subset(tbl.genGC, tbl.genGC$genome %in% unique(tbl.bin.l[[i]]$genome) )\n",
      "\n",
      "## adding rank\n",
      "tbl.genGC[,genome_GC_rank:=rank(genome_GC, ties.method='first')]\n",
      "\n",
      "## merging tables\n",
      "for(i in names(tbl.bin.l)){\n",
      "    tbl.bin.l[[i]] = merge(tbl.bin.l[[i]], tbl.genGC, by='genome')\n",
      "}\n",
      "\n",
      "## merging lists\n",
      "tbl.amp = do.call(rbind, tbl.l)\n",
      "tbl.amp$data = rep('amplicon\\nfragments', nrow(tbl.amp))\n",
      "tbl.l = list()\n",
      "\n",
      "tbl.bin.amp = do.call(rbind, tbl.bin.l)\n",
      "tbl.bin.amp$data = rep('amplicon\\nfragments', nrow(tbl.bin.amp))\n",
      "tbl.bin.l = list()"
     ],
     "language": "python",
     "metadata": {},
     "outputs": [],
     "prompt_number": 228
    },
    {
     "cell_type": "markdown",
     "metadata": {},
     "source": [
      "### Loading shotgun read deltaGC data"
     ]
    },
    {
     "cell_type": "code",
     "collapsed": false,
     "input": [
      "%%R\n",
      "base.dir = \"~/notebook/deltaGC_notes/data/mg-reads/140417_allArc/mg454-L215-N10k\";\n",
      "files = list(\n",
      "    'skewnorm_m15k_r4k-20k',\n",
      "    'skewnorm_m10k_r4k-11.5k'\n",
      "    )\n",
      "\n",
      "tbl.l = list()\n",
      "for(i in files){\n",
      "    in.file = paste(c(i, \"txt\"), collapse=\".\")\n",
      "    in.file = paste(c(base.dir, in.file), collapse=\"/\")\n",
      "    tbl.l[[i]] = fread(in.file, header=T, sep=\"\\t\")\n",
      "    tbl.l[[i]]$file = rep(i, nrow(tbl.l[[i]]))\n",
      "    }\n",
      "\n",
      "tbl.bin.l = list()\n",
      "for(i in files){\n",
      "    in.file = paste(c(i, \"bin.txt\"), collapse=\"_\")\n",
      "    in.file = paste(c(base.dir, in.file), collapse=\"/\")\n",
      "    tbl.bin.l[[i]] = fread(in.file, header=T, sep=\"\\t\")\n",
      "    tbl.bin.l[[i]]$file = rep(i, nrow(tbl.bin.l[[i]]))\n",
      "    }\n",
      "\n",
      "\n",
      "# loading in genome GC table\n",
      "tbl.genGC = fread(\"~/notebook/deltaGC_notes/data/genome_data/prok-arc-genomes_Ngaps_GC/prok-arc-genomes_Ngaps_GC.txt\",\n",
      "                    header=F)\n",
      "## editing table\n",
      "colnames(tbl.genGC) = c('genome', 'genome_GC')\n",
      "tbl.genGC[,genome:=gsub(\".+\\\\/|\\\\.fasta\", \"\", genome)]\n",
      "\n",
      "## selecting just genomes in other tables\n",
      "tbl.genGC = subset(tbl.genGC, tbl.genGC$genome %in% unique(tbl.bin.l[[i]]$genome) )\n",
      "\n",
      "## adding rank\n",
      "tbl.genGC[,genome_GC_rank:=rank(genome_GC, ties.method='first')]\n",
      "\n",
      "## merging tables\n",
      "for(i in names(tbl.bin.l)){\n",
      "    tbl.bin.l[[i]] = merge(tbl.bin.l[[i]], tbl.genGC, by='genome')\n",
      "}\n",
      "\n",
      "## merging lists\n",
      "tbl.mg = do.call(rbind, tbl.l)\n",
      "tbl.mg$data = rep('shotgun\\nfragments', nrow(tbl.mg))\n",
      "tbl.l = list()\n",
      "\n",
      "tbl.bin.mg = do.call(rbind, tbl.bin.l)\n",
      "tbl.bin.mg$data = rep('shotgun\\nfragments', nrow(tbl.bin.mg))\n",
      "tbl.bin.l = list()"
     ],
     "language": "python",
     "metadata": {},
     "outputs": [],
     "prompt_number": 229
    },
    {
     "cell_type": "code",
     "collapsed": false,
     "input": [
      "%%R\n",
      "## merging amp & mg tables\n",
      "tbl = rbind(tbl.amp, tbl.mg)\n",
      "tbl.amp = vector()\n",
      "tbl.mg = vector()\n",
      "\n",
      "tbl.bin = rbind(tbl.bin.amp, tbl.bin.mg)\n",
      "tbl.bin.amp = vector()\n",
      "tbl.bin.mg = vector()"
     ],
     "language": "python",
     "metadata": {},
     "outputs": [],
     "prompt_number": 232
    },
    {
     "cell_type": "code",
     "collapsed": false,
     "input": [
      "%%R\n",
      "# editing $file names\n",
      "tbl[, file:=gsub(\"skewnorm_m15k_r4k-20k\", \"Fragment size\\ndistribution: 12.5kb\", file)]\n",
      "tbl[, file:=gsub(\"skewnorm_m10k_r4k-11.5k\", \"Fragment size\\ndistribution: 6kb\", file)]\n",
      "\n",
      "tbl.bin[, file:=gsub(\"skewnorm_m15k_r4k-20k\", \"Fragment size\\ndistribution: 12.5kb\", file)]\n",
      "tbl.bin[, file:=gsub(\"skewnorm_m10k_r4k-11.5k\", \"Fragment size\\ndistribution: 6kb\", file)]"
     ],
     "language": "python",
     "metadata": {},
     "outputs": [
      {
       "metadata": {},
       "output_type": "display_data",
       "text": [
        "                                genome scaffold           read  read_GC\n",
        "    1:         Acidianus_hospitalis_W1 CP002535  CP002535__654 63.72093\n",
        "    2:         Acidianus_hospitalis_W1 CP002535  CP002535__753 63.72093\n",
        "    3:         Acidianus_hospitalis_W1       NA             NA       NA\n",
        "    4:         Acidianus_hospitalis_W1       NA             NA       NA\n",
        "    5:         Acidianus_hospitalis_W1       NA             NA       NA\n",
        "   ---                                                                 \n",
        "44840: Vulcanisaeta_moutnovskia_768-28 CP002529 CP002529__3236 49.76744\n",
        "44841: Vulcanisaeta_moutnovskia_768-28       NA             NA       NA\n",
        "44842: Vulcanisaeta_moutnovskia_768-28       NA             NA       NA\n",
        "44843: Vulcanisaeta_moutnovskia_768-28       NA             NA       NA\n",
        "44844: Vulcanisaeta_moutnovskia_768-28 CP002529 CP002529__2873 55.34884\n",
        "       read_buoyant_density read_start read_length fragment_GC\n",
        "    1:             1.722447    2593074         215    41.93737\n",
        "    2:             1.722447    2593074         215    56.49376\n",
        "    3:                   NA         NA          NA          NA\n",
        "    4:                   NA         NA          NA          NA\n",
        "    5:                   NA         NA          NA          NA\n",
        "   ---                                                        \n",
        "44840:             1.708772    1493457         215    43.28138\n",
        "44841:                   NA         NA          NA          NA\n",
        "44842:                   NA         NA          NA          NA\n",
        "44843:                   NA         NA          NA          NA\n",
        "44844:             1.714242    4337477         215    38.91552\n",
        "       fragment_buoyant_density fragment_start fragment_length bin_min bin_max\n",
        "    1:                 1.701099        2581381           13699   1.701   1.702\n",
        "    2:                 1.715364        2591081           12589   1.715   1.716\n",
        "    3:                       NA             NA              NA   1.725   1.726\n",
        "    4:                       NA             NA              NA   1.759   1.760\n",
        "    5:                       NA             NA              NA   1.768   1.769\n",
        "   ---                                                                        \n",
        "44840:                 1.702416        1488477            6095   1.708   1.709\n",
        "44841:                       NA             NA              NA   1.766   1.767\n",
        "44842:                       NA             NA              NA   1.672   1.673\n",
        "44843:                       NA             NA              NA   1.748   1.749\n",
        "44844:                 1.698137        4336467            6049   1.714   1.715\n",
        "       read_count frag_count   median median_rank\n",
        "    1:          0         44 1.711382          43\n",
        "    2:          0         67 1.711382          43\n",
        "    3:          0          0 1.711382          43\n",
        "    4:          0          0 1.711382          43\n",
        "    5:          0          0 1.711382          43\n",
        "   ---                                           \n",
        "44840:        350         78 1.701386          37\n",
        "44841:          0          0 1.701386          37\n",
        "44842:          0          0 1.701386          37\n",
        "44843:          0          0 1.701386          37\n",
        "44844:         62          3 1.701386          37\n",
        "                                      file genome_GC genome_GC_rank\n",
        "    1: Fragment size\\ndistribution: 12.5kb 0.3358832             17\n",
        "    2: Fragment size\\ndistribution: 12.5kb 0.3358832             17\n",
        "    3: Fragment size\\ndistribution: 12.5kb 0.3358832             17\n",
        "    4: Fragment size\\ndistribution: 12.5kb 0.3358832             17\n",
        "    5: Fragment size\\ndistribution: 12.5kb 0.3358832             17\n",
        "   ---                                                             \n",
        "44840:    Fragment size\\ndistribution: 6kb 0.4169213             37\n",
        "44841:    Fragment size\\ndistribution: 6kb 0.4169213             37\n",
        "44842:    Fragment size\\ndistribution: 6kb 0.4169213             37\n",
        "44843:    Fragment size\\ndistribution: 6kb 0.4169213             37\n",
        "44844:    Fragment size\\ndistribution: 6kb 0.4169213             37\n",
        "                      data\n",
        "    1: amplicon\\nfragments\n",
        "    2: amplicon\\nfragments\n",
        "    3: amplicon\\nfragments\n",
        "    4: amplicon\\nfragments\n",
        "    5: amplicon\\nfragments\n",
        "   ---                    \n",
        "44840:  shotgun\\nfragments\n",
        "44841:  shotgun\\nfragments\n",
        "44842:  shotgun\\nfragments\n",
        "44843:  shotgun\\nfragments\n",
        "44844:  shotgun\\nfragments\n"
       ]
      }
     ],
     "prompt_number": 235
    },
    {
     "cell_type": "markdown",
     "metadata": {},
     "source": [
      "### Fragment length distributions"
     ]
    },
    {
     "cell_type": "code",
     "collapsed": false,
     "input": [
      "%%R -h 5 -w 9 -u in\n",
      "# summarizing fragment length distribution\n",
      "##print( tbl[, summary(fragment_length), by='file,data'] )\n",
      "\n",
      "# plot of fragment lengths\n",
      "p = ggplot(tbl, aes(fragment_length)) +\n",
      "        geom_histogram(binwidth=100) +\n",
      "        labs(x='Fragment length (bp)', y='Count') +\n",
      "        facet_grid(data ~ file, scales='free') +\n",
      "        theme(\n",
      "            text = element_text(size=16),\n",
      "            axis.text.x = element_text(angle=45)\n",
      "            )\n",
      "\n",
      "ggsave(\"~/notebook/deltaGC_notes/data/amp-mg/figures/frag-len-dist_arc.tiff\", dpi=300, height=5, width=9, units='in')\n",
      "print(p)"
     ],
     "language": "python",
     "metadata": {},
     "outputs": [],
     "prompt_number": 242
    },
    {
     "cell_type": "markdown",
     "metadata": {},
     "source": [
      "### Simulating label incorporation"
     ]
    },
    {
     "cell_type": "code",
     "collapsed": false,
     "input": [
      "%%R\n",
      "# simulating label incorporation by moving fragment buoyant density\n",
      "## 100% 15N\n",
      "tbl[, label_inc_15N := fragment_buoyant_density + 0.016]\n",
      "\n",
      "## 100% 13C\n",
      "tbl[, label_inc_13C := fragment_buoyant_density + 0.036]"
     ],
     "language": "python",
     "metadata": {},
     "outputs": [
      {
       "metadata": {},
       "output_type": "display_data",
       "text": [
        "                                    genome scaffold           read  read_GC\n",
        "      1: Haloarcula_marismortui_ATCC_43049 AY596297   AY596297__33 54.41860\n",
        "      2: Haloarcula_marismortui_ATCC_43049 AY596297  AY596297__791 63.72093\n",
        "      3: Haloarcula_marismortui_ATCC_43049 AY596297   AY596297__37 63.72093\n",
        "      4: Haloarcula_marismortui_ATCC_43049 AY596297   AY596297__36 63.72093\n",
        "      5: Haloarcula_marismortui_ATCC_43049 AY596297  AY596297__797 54.41860\n",
        "     ---                                                                   \n",
        "2221996:         Haloquadratum_walsbyi_C23 FR746099 FR746099__8237 44.65116\n",
        "2221997:         Haloquadratum_walsbyi_C23 FR746099 FR746099__8230 49.76744\n",
        "2221998:         Haloquadratum_walsbyi_C23 FR746099 FR746099__8231 43.25581\n",
        "2221999:         Haloquadratum_walsbyi_C23 FR746099 FR746099__8232 42.32558\n",
        "2222000:         Haloquadratum_walsbyi_C23 FR746099 FR746099__8233 40.46512\n",
        "         read_buoyant_density read_start read_length fragment_GC\n",
        "      1:             1.713330    2215176         215    57.38426\n",
        "      2:             1.722447    5265667         215    57.17372\n",
        "      3:             1.722447    5265667         215    57.25134\n",
        "      4:             1.722447    5265667         215    56.66473\n",
        "      5:             1.713330    2215176         215    55.90927\n",
        "     ---                                                        \n",
        "2221996:             1.703758    1283771         215    45.85610\n",
        "2221997:             1.708772    1506868         215    52.50473\n",
        "2221998:             1.702391    3992795         215    45.10173\n",
        "2221999:             1.701479     323240         215    47.09707\n",
        "2222000:             1.699656    5308016         215    46.21100\n",
        "         fragment_buoyant_density fragment_start fragment_length\n",
        "      1:                 1.716237        2203273           12960\n",
        "      2:                 1.716030        5261552           11110\n",
        "      3:                 1.716106        5261559           10798\n",
        "      4:                 1.715531        5264670           13774\n",
        "      5:                 1.714791        2211480           12565\n",
        "     ---                                                        \n",
        "2221996:                 1.704939        1277976            6588\n",
        "2221997:                 1.711455        1506629            5809\n",
        "2221998:                 1.704200        3987706            5308\n",
        "2221999:                 1.706155         318123            6459\n",
        "2222000:                 1.705287        5305459            5384\n",
        "                                        file                data label_inc_15N\n",
        "      1: Fragment size\\ndistribution: 12.5kb amplicon\\nfragments      1.732237\n",
        "      2: Fragment size\\ndistribution: 12.5kb amplicon\\nfragments      1.732030\n",
        "      3: Fragment size\\ndistribution: 12.5kb amplicon\\nfragments      1.732106\n",
        "      4: Fragment size\\ndistribution: 12.5kb amplicon\\nfragments      1.731531\n",
        "      5: Fragment size\\ndistribution: 12.5kb amplicon\\nfragments      1.730791\n",
        "     ---                                                                      \n",
        "2221996:    Fragment size\\ndistribution: 6kb  shotgun\\nfragments      1.720939\n",
        "2221997:    Fragment size\\ndistribution: 6kb  shotgun\\nfragments      1.727455\n",
        "2221998:    Fragment size\\ndistribution: 6kb  shotgun\\nfragments      1.720200\n",
        "2221999:    Fragment size\\ndistribution: 6kb  shotgun\\nfragments      1.722155\n",
        "2222000:    Fragment size\\ndistribution: 6kb  shotgun\\nfragments      1.721287\n",
        "         label_inc_13C\n",
        "      1:      1.752237\n",
        "      2:      1.752030\n",
        "      3:      1.752106\n",
        "      4:      1.751531\n",
        "      5:      1.750791\n",
        "     ---              \n",
        "2221996:      1.740939\n",
        "2221997:      1.747455\n",
        "2221998:      1.740200\n",
        "2221999:      1.742155\n",
        "2222000:      1.741287\n"
       ]
      }
     ],
     "prompt_number": 244
    },
    {
     "cell_type": "markdown",
     "metadata": {},
     "source": [
      "### Making heatmap of buoyant density: 12.5 kb fragment size"
     ]
    },
    {
     "cell_type": "code",
     "collapsed": false,
     "input": [
      "%%R\n",
      "# parsing out rows & columns needed for fragment density plot\n",
      "tbl.p = subset(tbl, file==\"Fragment size\\ndistribution: 12.5kb\")\n",
      "tbl.p = tbl.p[, c('data','fragment_buoyant_density', 'label_inc_15N', 'label_inc_13C'), with=F]\n",
      "\n",
      "## editing data column\n",
      "tbl.p[data == 'amplicon\\nfragments', data:='amplicon-fragments']\n",
      "tbl.p[data == 'shotgun\\nfragments', data:='shotgun-fragments']\n",
      "\n",
      "## melting\n",
      "tbl.m = melt(tbl.p, id.vars=c('data'))"
     ],
     "language": "python",
     "metadata": {},
     "outputs": [],
     "prompt_number": 272
    },
    {
     "cell_type": "code",
     "collapsed": false,
     "input": [
      "%%R -w 170 -h 300\n",
      "# making density plots\n",
      "### amplicon\n",
      "p.dense.amp.12.5 = make_density_plot( tbl.m[tbl.m$data=='amplicon-fragments', ], x.axis=FALSE)\n",
      "print(p.dense.amp.12.5)\n",
      "### shotgun\n",
      "p.dense.shotgun.12.5 = make_density_plot( tbl.m[tbl.m$data=='shotgun-fragments', ] )\n",
      "print(p.dense.shotgun.12.5)"
     ],
     "language": "python",
     "metadata": {},
     "outputs": [
      {
       "metadata": {},
       "output_type": "display_data",
       "png": "[encoded data removed]"
      },
      {
       "metadata": {},
       "output_type": "display_data",
       "png": "[encoded data removed]"
      }
     ],
     "prompt_number": 273
    },
    {
     "cell_type": "code",
     "collapsed": false,
     "input": [
      "%%R\n",
      "# parsing out columns & rows needed for heatmap plotting\n",
      "tbl.bin.p = subset(tbl.bin, file==\"Fragment size\\ndistribution: 12.5kb\")\n",
      "tbl.bin.p = tbl.bin.p[, c('data', 'genome_GC_rank', 'bin_min', 'frag_count'), with=F]\n",
      "\n",
      "## editing data column\n",
      "tbl.bin.p[data == 'amplicon\\nfragments', data:='amplicon-fragments']\n",
      "tbl.bin.p[data == 'shotgun\\nfragments', data:='shotgun-fragments']\n"
     ],
     "language": "python",
     "metadata": {},
     "outputs": [
      {
       "metadata": {},
       "output_type": "display_data",
       "text": [
        "                     data genome_GC_rank bin_min frag_count\n",
        "    1: amplicon-fragments             17   1.701         44\n",
        "    2: amplicon-fragments             17   1.715         67\n",
        "    3: amplicon-fragments             17   1.725          0\n",
        "    4: amplicon-fragments             17   1.759          0\n",
        "    5: amplicon-fragments             17   1.768          0\n",
        "   ---                                                     \n",
        "22418:  shotgun-fragments             37   1.708         73\n",
        "22419:  shotgun-fragments             37   1.766          0\n",
        "22420:  shotgun-fragments             37   1.672          0\n",
        "22421:  shotgun-fragments             37   1.748          0\n",
        "22422:  shotgun-fragments             37   1.714          2\n"
       ]
      }
     ],
     "prompt_number": 274
    },
    {
     "cell_type": "code",
     "collapsed": false,
     "input": [
      "%%R\n",
      "# making density heatmaps \n",
      "### amplicon\n",
      "p.heat.amp.12.5 = make_density_heatmap( tbl.bin.p[tbl.bin.p$data=='amplicon-fragments', ], x.axis=FALSE )\n",
      "print(p.heat.amp.12.5)\n",
      "### shotgun\n",
      "p.heat.shotgun.12.5 = make_density_heatmap( tbl.bin.p[tbl.bin.p$data=='shotgun-fragments', ] )\n",
      "print(p.heat.shotgun.12.5)"
     ],
     "language": "python",
     "metadata": {},
     "outputs": [
      {
       "metadata": {},
       "output_type": "display_data",
       "text": [
        "TableGrob (6 x 6) \"layout\": 8 grobs\n",
        "  z     cells       name                                  grob\n",
        "1 0 (1-6,1-6) background      rect[plot.background.rect.16873]\n",
        "2 2 (3-3,3-3)     axis-l absoluteGrob[GRID.absoluteGrob.16838]\n",
        "3 1 (3-3,4-4)      panel               gTree[GRID.gTree.16858]\n",
        "4 4 (4-4,4-4)     axis-b absoluteGrob[GRID.absoluteGrob.16832]\n",
        "5 5 (5-5,4-4)       xlab zeroGrob[axis.title.x.zeroGrob.16859]\n",
        "6 6 (3-3,2-2)       ylab         text[axis.title.y.text.16861]\n",
        "7 7 (3-3,4-4)  guide-box                     gtable[guide-box]\n",
        "8 8 (2-2,4-4)      title           text[plot.title.text.16871]\n",
        "TableGrob (6 x 6) \"layout\": 8 grobs\n",
        "  z     cells       name                                  grob\n",
        "1 0 (1-6,1-6) background      rect[plot.background.rect.16921]\n",
        "2 2 (3-3,3-3)     axis-l absoluteGrob[GRID.absoluteGrob.16885]\n",
        "3 1 (3-3,4-4)      panel               gTree[GRID.gTree.16905]\n",
        "4 4 (4-4,4-4)     axis-b absoluteGrob[GRID.absoluteGrob.16879]\n",
        "5 5 (5-5,4-4)       xlab         text[axis.title.x.text.16907]\n",
        "6 6 (3-3,2-2)       ylab         text[axis.title.y.text.16909]\n",
        "7 7 (3-3,4-4)  guide-box                     gtable[guide-box]\n",
        "8 8 (2-2,4-4)      title           text[plot.title.text.16919]\n"
       ]
      },
      {
       "metadata": {},
       "output_type": "display_data",
       "png": "[encoded data removed]"
      }
     ],
     "prompt_number": 275
    },
    {
     "cell_type": "markdown",
     "metadata": {},
     "source": [
      "### Making heatmap of buoyant density: 6 kb fragment size"
     ]
    },
    {
     "cell_type": "code",
     "collapsed": false,
     "input": [
      "%%R\n",
      "# parsing out rows & columns needed for fragment density plot\n",
      "tbl.p = subset(tbl, file==\"Fragment size\\ndistribution: 6kb\")\n",
      "tbl.p = tbl.p[, c('data','fragment_buoyant_density', 'label_inc_15N', 'label_inc_13C'), with=F]\n",
      "\n",
      "## editing data column\n",
      "tbl.p[data == 'amplicon\\nfragments', data:='amplicon-fragments']\n",
      "tbl.p[data == 'shotgun\\nfragments', data:='shotgun-fragments']\n",
      "\n",
      "## melting\n",
      "tbl.m = melt(tbl.p, id.vars=c('data'))"
     ],
     "language": "python",
     "metadata": {},
     "outputs": [],
     "prompt_number": 276
    },
    {
     "cell_type": "code",
     "collapsed": false,
     "input": [
      "%%R -w 170 -h 300\n",
      "# making density plots\n",
      "### amplicon\n",
      "p.dense.amp.6 = make_density_plot( tbl.m[tbl.m$data=='amplicon-fragments', ], x.axis=FALSE)\n",
      "print(p.dense.amp.6)\n",
      "### shotgun\n",
      "p.dense.shotgun.6 = make_density_plot( tbl.m[tbl.m$data=='shotgun-fragments', ] )\n",
      "print(p.dense.shotgun.6)"
     ],
     "language": "python",
     "metadata": {},
     "outputs": [
      {
       "metadata": {},
       "output_type": "display_data",
       "png": "[encoded data removed]"
      },
      {
       "metadata": {},
       "output_type": "display_data",
       "png": "[encoded data removed]"
      }
     ],
     "prompt_number": 277
    },
    {
     "cell_type": "code",
     "collapsed": false,
     "input": [
      "%%R\n",
      "# parsing out columns & rows needed for heatmap plotting\n",
      "tbl.bin.p = subset(tbl.bin, file==\"Fragment size\\ndistribution: 6kb\")\n",
      "tbl.bin.p = tbl.bin.p[, c('data', 'genome_GC_rank', 'bin_min', 'frag_count'), with=F]\n",
      "\n",
      "## editing data column\n",
      "tbl.bin.p[data == 'amplicon\\nfragments', data:='amplicon-fragments']\n",
      "tbl.bin.p[data == 'shotgun\\nfragments', data:='shotgun-fragments']\n"
     ],
     "language": "python",
     "metadata": {},
     "outputs": [
      {
       "metadata": {},
       "output_type": "display_data",
       "text": [
        "                     data genome_GC_rank bin_min frag_count\n",
        "    1: amplicon-fragments             17   1.701         17\n",
        "    2: amplicon-fragments             17   1.715         41\n",
        "    3: amplicon-fragments             17   1.725          0\n",
        "    4: amplicon-fragments             17   1.759          0\n",
        "    5: amplicon-fragments             17   1.768          0\n",
        "   ---                                                     \n",
        "22418:  shotgun-fragments             37   1.708         78\n",
        "22419:  shotgun-fragments             37   1.766          0\n",
        "22420:  shotgun-fragments             37   1.672          0\n",
        "22421:  shotgun-fragments             37   1.748          0\n",
        "22422:  shotgun-fragments             37   1.714          3\n"
       ]
      }
     ],
     "prompt_number": 278
    },
    {
     "cell_type": "code",
     "collapsed": false,
     "input": [
      "%%R\n",
      "# making density heatmaps \n",
      "### amplicon\n",
      "p.heat.amp.6 = make_density_heatmap( tbl.bin.p[tbl.bin.p$data=='amplicon-fragments', ], x.axis=FALSE )\n",
      "print(p.heat.amp.6)\n",
      "### shotgun\n",
      "p.heat.shotgun.6 = make_density_heatmap( tbl.bin.p[tbl.bin.p$data=='shotgun-fragments', ] )\n",
      "print(p.heat.shotgun.6)"
     ],
     "language": "python",
     "metadata": {},
     "outputs": [
      {
       "metadata": {},
       "output_type": "display_data",
       "text": [
        "TableGrob (6 x 6) \"layout\": 8 grobs\n",
        "  z     cells       name                                  grob\n",
        "1 0 (1-6,1-6) background      rect[plot.background.rect.17059]\n",
        "2 2 (3-3,3-3)     axis-l absoluteGrob[GRID.absoluteGrob.17024]\n",
        "3 1 (3-3,4-4)      panel               gTree[GRID.gTree.17044]\n",
        "4 4 (4-4,4-4)     axis-b absoluteGrob[GRID.absoluteGrob.17018]\n",
        "5 5 (5-5,4-4)       xlab zeroGrob[axis.title.x.zeroGrob.17045]\n",
        "6 6 (3-3,2-2)       ylab         text[axis.title.y.text.17047]\n",
        "7 7 (3-3,4-4)  guide-box                     gtable[guide-box]\n",
        "8 8 (2-2,4-4)      title           text[plot.title.text.17057]\n",
        "TableGrob (6 x 6) \"layout\": 8 grobs\n",
        "  z     cells       name                                  grob\n",
        "1 0 (1-6,1-6) background      rect[plot.background.rect.17107]\n",
        "2 2 (3-3,3-3)     axis-l absoluteGrob[GRID.absoluteGrob.17071]\n",
        "3 1 (3-3,4-4)      panel               gTree[GRID.gTree.17091]\n",
        "4 4 (4-4,4-4)     axis-b absoluteGrob[GRID.absoluteGrob.17065]\n",
        "5 5 (5-5,4-4)       xlab         text[axis.title.x.text.17093]\n",
        "6 6 (3-3,2-2)       ylab         text[axis.title.y.text.17095]\n",
        "7 7 (3-3,4-4)  guide-box                     gtable[guide-box]\n",
        "8 8 (2-2,4-4)      title           text[plot.title.text.17105]\n"
       ]
      },
      {
       "metadata": {},
       "output_type": "display_data",
       "png": "[encoded data removed]"
      }
     ],
     "prompt_number": 279
    },
    {
     "cell_type": "markdown",
     "metadata": {},
     "source": [
      "### Merging plots"
     ]
    },
    {
     "cell_type": "code",
     "collapsed": false,
     "input": [
      "%%R -h 8 -w 18 -u in\n",
      "# combined plots\n",
      "tiff( \"~/notebook/deltaGC_notes/data/amp-mg/figures/dense-htmp_arc_12.5-6kb.tiff\", width=17, height=10, units='in', res=300 )\n",
      "grid.arrange(p.heat.amp.12.5, p.dense.amp.12.5,   p.heat.amp.6, p.dense.amp.6,\n",
      "             p.heat.shotgun.12.5, p.dense.shotgun.12.5,   p.heat.shotgun.6, p.dense.shotgun.6, \n",
      "            nrow=2, ncol=4, widths=c(7,2,7,2) )\n",
      "dev.off()\n"
     ],
     "language": "python",
     "metadata": {},
     "outputs": [
      {
       "metadata": {},
       "output_type": "display_data",
       "text": [
        "png \n",
        "  2 \n"
       ]
      }
     ],
     "prompt_number": 285
    },
    {
     "cell_type": "markdown",
     "metadata": {},
     "source": [
      "### Making BD range boxplots"
     ]
    },
    {
     "cell_type": "code",
     "collapsed": false,
     "input": [
      "%%R -w 7 -h 4 -u in\n",
      "# q5-q95 range\n",
      "tbl[, q05.q95 := quantile(fragment_buoyant_density, 0.95) - quantile(fragment_buoyant_density,0.05), by='file,data,genome']\n",
      "\n",
      "# dereplicating by file,data,genome,q05.q95\n",
      "tbl.s = tbl[, sum(1), by='file,data,genome,q05.q95']\n",
      "\n",
      "# plotting \n",
      "p = ggplot( tbl.s, aes(data, q05.q95) ) +\n",
      "        geom_boxplot() +\n",
      "        labs(x='fragment simulation', y='Buoyant density range\\n(95% of all fragments)') +\n",
      "        facet_grid(. ~ file) +        \n",
      "        theme( \n",
      "            text = element_text(size=16),\n",
      "            axis.title.x = element_blank()\n",
      "            )\n",
      "#ggsave(\"~/notebook/deltaGC_notes/data/amp-mg/figures/BD-95range_arc_boxplot.pdf\")\n",
      "print(p)"
     ],
     "language": "python",
     "metadata": {},
     "outputs": [
      {
       "output_type": "stream",
       "stream": "stdout",
       "text": [
        "Saving 7 x 4 in image\n",
        "Error in grid.newpage() : \n",
        "  could not open file '/tmp/tmpUR84ut/Rplots001.png'\n",
        "In addition: Warning messages:\n",
        "1: Removed 1 rows containing non-finite values (stat_density). \n",
        "2: Removed 27 rows containing non-finite values (stat_density). \n",
        "3: Removed 1 rows containing non-finite values (stat_density). \n",
        "4: Removed 27 rows containing non-finite values (stat_density). \n",
        "5: Removed 1 rows containing non-finite values (stat_density). \n",
        "6: Removed 27 rows containing non-finite values (stat_density).\n",
        "Error in grid.newpage() : \n",
        "  could not open file '/tmp/tmpUR84ut/Rplots001.png'\n"
       ]
      }
     ],
     "prompt_number": 288
    }
   ],
   "metadata": {}
  }
 ]
}