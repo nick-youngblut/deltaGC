{
 "metadata": {
  "name": "",
  "signature": "sha256:1b705458724d58823e438979e52938f8f88bcccbecc7a8d44608f9742844949b"
 },
 "nbformat": 3,
 "nbformat_minor": 0,
 "worksheets": [
  {
   "cells": [
    {
     "cell_type": "markdown",
     "metadata": {},
     "source": [
      "# Description:\n",
      "\n",
      "* Plotting histograms of fragment lengths for amplicon- and shotgun-fragments"
     ]
    },
    {
     "cell_type": "code",
     "collapsed": false,
     "input": [
      "%load_ext rmagic"
     ],
     "language": "python",
     "metadata": {},
     "outputs": [
      {
       "output_type": "stream",
       "stream": "stderr",
       "text": [
        "/opt/anaconda/lib/python2.7/site-packages/pytz/__init__.py:29: UserWarning: Module argparse was already imported from /opt/anaconda/lib/python2.7/argparse.pyc, but /opt/anaconda/lib/python2.7/site-packages is being added to sys.path\n",
        "  from pkg_resources import resource_stream\n"
       ]
      }
     ],
     "prompt_number": 1
    },
    {
     "cell_type": "code",
     "collapsed": false,
     "input": [
      "%%R\n",
      "require(ggplot2)\n",
      "require(reshape)\n",
      "require(data.table)\n",
      "require(gridExtra)"
     ],
     "language": "python",
     "metadata": {},
     "outputs": [
      {
       "metadata": {},
       "output_type": "display_data",
       "text": [
        "Loading required package: ggplot2\n",
        "Loading required package: reshape\n",
        "Loading required package: plyr\n",
        "\n",
        "Attaching package: \u2018reshape\u2019\n",
        "\n",
        "The following objects are masked from \u2018package:plyr\u2019:\n",
        "\n",
        "    rename, round_any\n",
        "\n",
        "Loading required package: data.table\n",
        "data.table 1.9.2  For help type: help(\"data.table\")\n",
        "Loading required package: gridExtra\n",
        "Loading required package: grid\n"
       ]
      }
     ],
     "prompt_number": 2
    },
    {
     "cell_type": "markdown",
     "metadata": {},
     "source": [
      "## Loading bacteria data"
     ]
    },
    {
     "cell_type": "markdown",
     "metadata": {},
     "source": [
      "### Loading amplicon data"
     ]
    },
    {
     "cell_type": "code",
     "collapsed": false,
     "input": [
      "%%R\n",
      "# loading amplicon data \n",
      "base.dir = \"~/notebook/deltaGC_notes/data/amplicon/140411_allBac/amp454-L215-N1k\";\n",
      "files = c(\n",
      "    'skewnorm_m15k_r4k-20k',\n",
      "    'skewnorm_m10k_r4k-11.5k'\n",
      "    )\n",
      "\n",
      "tbl.l = list()\n",
      "for(i in files){\n",
      "    in.file = paste(c(i, \"txt\"), collapse=\".\")\n",
      "    in.file = paste(c(base.dir, in.file), collapse=\"/\")\n",
      "    tbl.l[[i]] = fread(in.file, header=T, sep=\"\\t\")\n",
      "    tbl.l[[i]]$file = rep(i, nrow(tbl.l[[i]]))\n",
      "    }\n",
      "\n",
      "\n",
      "## merging lists\n",
      "tbl.amp = do.call(rbind, tbl.l)\n",
      "tbl.amp$data = rep('amplicon\\nfragments', nrow(tbl.amp))\n",
      "tbl.l = list()\n",
      "\n"
     ],
     "language": "python",
     "metadata": {},
     "outputs": [],
     "prompt_number": 29
    },
    {
     "cell_type": "markdown",
     "metadata": {},
     "source": [
      "### Loading shotgun data"
     ]
    },
    {
     "cell_type": "code",
     "collapsed": false,
     "input": [
      "%%R\n",
      "# loading shotgun read data\n",
      "base.dir = \"~/notebook/deltaGC_notes/data/mg-reads/140411_allBac/mg454-L215-N10k\";\n",
      "files = list(\n",
      "    'skewnorm_m15k_r4k-20k',\n",
      "    'skewnorm_m10k_r4k-11.5k'\n",
      "    )\n",
      "\n",
      "tbl.l = list()\n",
      "for(i in files){\n",
      "    in.file = paste(c(i, \"txt\"), collapse=\".\")\n",
      "    in.file = paste(c(base.dir, in.file), collapse=\"/\")\n",
      "    tbl.l[[i]] = fread(in.file, header=T, sep=\"\\t\")\n",
      "    tbl.l[[i]]$file = rep(i, nrow(tbl.l[[i]]))\n",
      "    }\n",
      "\n",
      "\n",
      "## merging lists\n",
      "tbl.mg = do.call(rbind, tbl.l)\n",
      "tbl.mg$data = rep('shotgun\\nfragments', nrow(tbl.mg))\n",
      "tbl.l = list()\n"
     ],
     "language": "python",
     "metadata": {},
     "outputs": [
      {
       "metadata": {},
       "output_type": "display_data",
       "text": [
        "\r",
        "Read 0.0% of 10910000 rows\r",
        "Read 8.1% of 10910000 rows\r",
        "Read 16.2% of 10910000 rows\r",
        "Read 24.4% of 10910000 rows\r",
        "Read 32.7% of 10910000 rows\r",
        "Read 40.6% of 10910000 rows\r",
        "Read 48.6% of 10910000 rows\r",
        "Read 56.4% of 10910000 rows\r",
        "Read 64.2% of 10910000 rows\r",
        "Read 71.9% of 10910000 rows\r",
        "Read 79.8% of 10910000 rows\r",
        "Read 88.3% of 10910000 rows\r",
        "Read 96.8% of 10910000 rows\r",
        "Read 10910000 rows and 11 (of 11) columns from 1.523 GB file in 00:00:16\n",
        "\r",
        "Read 0.0% of 10910000 rows\r",
        "Read 8.0% of 10910000 rows\r",
        "Read 16.1% of 10910000 rows\r",
        "Read 24.3% of 10910000 rows\r",
        "Read 32.5% of 10910000 rows\r",
        "Read 40.4% of 10910000 rows\r",
        "Read 48.4% of 10910000 rows\r",
        "Read 56.3% of 10910000 rows\r",
        "Read 64.2% of 10910000 rows\r",
        "Read 71.9% of 10910000 rows\r",
        "Read 79.8% of 10910000 rows\r",
        "Read 88.3% of 10910000 rows\r",
        "Read 96.6% of 10910000 rows\r",
        "Read 10910000 rows and 11 (of 11) columns from 1.512 GB file in 00:00:16\n"
       ]
      }
     ],
     "prompt_number": 30
    },
    {
     "cell_type": "code",
     "collapsed": false,
     "input": [
      "%%R\n",
      "## merging amp & mg tables\n",
      "tbl.bac = rbind(tbl.amp, tbl.mg)\n",
      "tbl.amp = vector()  # clearing memory\n",
      "tbl.mg = vector()\n"
     ],
     "language": "python",
     "metadata": {},
     "outputs": [],
     "prompt_number": 31
    },
    {
     "cell_type": "code",
     "collapsed": false,
     "input": [
      "%%R\n",
      "# editing $file names\n",
      "tbl.bac[, file:=gsub(\"skewnorm_m15k_r4k-20k\", \"Fragment size\\ndistribution: 12.5 kb\", file)]\n",
      "tbl.bac[, file:=gsub(\"skewnorm_m10k_r4k-11.5k\", \"Fragment size\\ndistribution: 6 kb\", file)]\n"
     ],
     "language": "python",
     "metadata": {},
     "outputs": [
      {
       "metadata": {},
       "output_type": "display_data",
       "text": [
        "                                 genome scaffold           read  read_GC\n",
        "       1:  Agrobacterium_fabrum_str_C58 AE007869  AE007869__499 52.55814\n",
        "       2:  Agrobacterium_fabrum_str_C58 AE007869  AE007869__498 52.55814\n",
        "       3:  Agrobacterium_fabrum_str_C58 AE007869  AE007869__495 52.55814\n",
        "       4:  Agrobacterium_fabrum_str_C58 AE007869  AE007869__497 52.55814\n",
        "       5:  Agrobacterium_fabrum_str_C58 AE007869  AE007869__496 52.55814\n",
        "      ---                                                               \n",
        "24001996: Salmonella_bongori_NCTC_12419 FR877557 FR877557__2790 57.20930\n",
        "24001997: Salmonella_bongori_NCTC_12419 FR877557 FR877557__2797 29.76744\n",
        "24001998: Salmonella_bongori_NCTC_12419 FR877557 FR877557__2796 44.18605\n",
        "24001999: Salmonella_bongori_NCTC_12419 FR877557 FR877557__2795 50.23256\n",
        "24002000: Salmonella_bongori_NCTC_12419 FR877557 FR877557__2794 53.95349\n",
        "          read_buoyant_density read_start read_length fragment_GC\n",
        "       1:             1.711507     114437         215    53.02019\n",
        "       2:             1.711507     114437         215    55.41002\n",
        "       3:             1.711507    5035543         215    52.92066\n",
        "       4:             1.711507    5035543         215    53.45668\n",
        "       5:             1.711507     114437         215    56.14006\n",
        "      ---                                                        \n",
        "24001996:             1.716065    1863392         215    53.96161\n",
        "24001997:             1.689172    8744011         215    44.52086\n",
        "24001998:             1.703302    8668917         215    46.68961\n",
        "24001999:             1.709228    6849897         215    54.76029\n",
        "24002000:             1.712874    3975166         215    45.70962\n",
        "          fragment_buoyant_density fragment_start fragment_length\n",
        "       1:                 1.711960         114273           12284\n",
        "       2:                 1.714302         107900           14048\n",
        "       3:                 1.711862        5024735           14911\n",
        "       4:                 1.712388        5030946           10053\n",
        "       5:                 1.715017         107683           12109\n",
        "      ---                                                        \n",
        "24001996:                 1.712882        1861101            5730\n",
        "24001997:                 1.703630        8742874            6543\n",
        "24001998:                 1.705756        8667460            6102\n",
        "24001999:                 1.713665        6849320            5882\n",
        "24002000:                 1.704795        3972279            6130\n",
        "                                          file                data\n",
        "       1: Fragment size\\ndistribution: 12.5 kb amplicon\\nfragments\n",
        "       2: Fragment size\\ndistribution: 12.5 kb amplicon\\nfragments\n",
        "       3: Fragment size\\ndistribution: 12.5 kb amplicon\\nfragments\n",
        "       4: Fragment size\\ndistribution: 12.5 kb amplicon\\nfragments\n",
        "       5: Fragment size\\ndistribution: 12.5 kb amplicon\\nfragments\n",
        "      ---                                                         \n",
        "24001996:    Fragment size\\ndistribution: 6 kb  shotgun\\nfragments\n",
        "24001997:    Fragment size\\ndistribution: 6 kb  shotgun\\nfragments\n",
        "24001998:    Fragment size\\ndistribution: 6 kb  shotgun\\nfragments\n",
        "24001999:    Fragment size\\ndistribution: 6 kb  shotgun\\nfragments\n",
        "24002000:    Fragment size\\ndistribution: 6 kb  shotgun\\nfragments\n"
       ]
      }
     ],
     "prompt_number": 32
    },
    {
     "cell_type": "markdown",
     "metadata": {},
     "source": [
      "## Loading archaea data"
     ]
    },
    {
     "cell_type": "markdown",
     "metadata": {},
     "source": [
      "### Loading amplicon data"
     ]
    },
    {
     "cell_type": "code",
     "collapsed": false,
     "input": [
      "%%R\n",
      "base.dir = \"~/notebook/deltaGC_notes/data/amplicon/140416_allArc/amp454-L215-N1k\";\n",
      "files = c(\n",
      "    'skewnorm_m15k_r4k-20k',\n",
      "    'skewnorm_m10k_r4k-11.5k'\n",
      "    )\n",
      "\n",
      "tbl.l = list()\n",
      "for(i in files){\n",
      "    in.file = paste(c(i, \"txt\"), collapse=\".\")\n",
      "    in.file = paste(c(base.dir, in.file), collapse=\"/\")\n",
      "    tbl.l[[i]] = fread(in.file, header=T, sep=\"\\t\")\n",
      "    tbl.l[[i]]$file = rep(i, nrow(tbl.l[[i]]))\n",
      "    }\n",
      "\n",
      "## merging lists\n",
      "tbl.amp = do.call(rbind, tbl.l)\n",
      "tbl.amp$data = rep('amplicon\\nfragments', nrow(tbl.amp))\n",
      "tbl.l = list()\n"
     ],
     "language": "python",
     "metadata": {},
     "outputs": [],
     "prompt_number": 33
    },
    {
     "cell_type": "markdown",
     "metadata": {},
     "source": [
      "### Loading shotgun read data"
     ]
    },
    {
     "cell_type": "code",
     "collapsed": false,
     "input": [
      "%%R\n",
      "base.dir = \"~/notebook/deltaGC_notes/data/mg-reads/140417_allArc/mg454-L215-N10k\";\n",
      "files = list(\n",
      "    'skewnorm_m15k_r4k-20k',\n",
      "    'skewnorm_m10k_r4k-11.5k'\n",
      "    )\n",
      "\n",
      "tbl.l = list()\n",
      "for(i in files){\n",
      "    in.file = paste(c(i, \"txt\"), collapse=\".\")\n",
      "    in.file = paste(c(base.dir, in.file), collapse=\"/\")\n",
      "    tbl.l[[i]] = fread(in.file, header=T, sep=\"\\t\")\n",
      "    tbl.l[[i]]$file = rep(i, nrow(tbl.l[[i]]))\n",
      "    }\n",
      "\n",
      "\n",
      "## merging lists\n",
      "tbl.mg = do.call(rbind, tbl.l)\n",
      "tbl.mg$data = rep('shotgun\\nfragments', nrow(tbl.mg))\n",
      "tbl.l = list()\n",
      "\n"
     ],
     "language": "python",
     "metadata": {},
     "outputs": [],
     "prompt_number": 34
    },
    {
     "cell_type": "code",
     "collapsed": false,
     "input": [
      "%%R\n",
      "## merging amp & mg tables\n",
      "tbl.arc = rbind(tbl.amp, tbl.mg)\n",
      "tbl.amp = vector()\n",
      "tbl.mg = vector()\n"
     ],
     "language": "python",
     "metadata": {},
     "outputs": [],
     "prompt_number": 35
    },
    {
     "cell_type": "code",
     "collapsed": false,
     "input": [
      "%%R\n",
      "# editing $file names\n",
      "tbl.arc[, file:=gsub(\"skewnorm_m15k_r4k-20k\", \"Fragment size\\ndistribution: 12.5 kb\", file)]\n",
      "tbl.arc[, file:=gsub(\"skewnorm_m10k_r4k-11.5k\", \"Fragment size\\ndistribution: 6 kb\", file)]\n"
     ],
     "language": "python",
     "metadata": {},
     "outputs": [
      {
       "metadata": {},
       "output_type": "display_data",
       "text": [
        "                                    genome scaffold           read  read_GC\n",
        "      1: Haloarcula_marismortui_ATCC_43049 AY596297   AY596297__33 54.41860\n",
        "      2: Haloarcula_marismortui_ATCC_43049 AY596297  AY596297__791 63.72093\n",
        "      3: Haloarcula_marismortui_ATCC_43049 AY596297   AY596297__37 63.72093\n",
        "      4: Haloarcula_marismortui_ATCC_43049 AY596297   AY596297__36 63.72093\n",
        "      5: Haloarcula_marismortui_ATCC_43049 AY596297  AY596297__797 54.41860\n",
        "     ---                                                                   \n",
        "2221996:         Haloquadratum_walsbyi_C23 FR746099 FR746099__8237 44.65116\n",
        "2221997:         Haloquadratum_walsbyi_C23 FR746099 FR746099__8230 49.76744\n",
        "2221998:         Haloquadratum_walsbyi_C23 FR746099 FR746099__8231 43.25581\n",
        "2221999:         Haloquadratum_walsbyi_C23 FR746099 FR746099__8232 42.32558\n",
        "2222000:         Haloquadratum_walsbyi_C23 FR746099 FR746099__8233 40.46512\n",
        "         read_buoyant_density read_start read_length fragment_GC\n",
        "      1:             1.713330    2215176         215    57.38426\n",
        "      2:             1.722447    5265667         215    57.17372\n",
        "      3:             1.722447    5265667         215    57.25134\n",
        "      4:             1.722447    5265667         215    56.66473\n",
        "      5:             1.713330    2215176         215    55.90927\n",
        "     ---                                                        \n",
        "2221996:             1.703758    1283771         215    45.85610\n",
        "2221997:             1.708772    1506868         215    52.50473\n",
        "2221998:             1.702391    3992795         215    45.10173\n",
        "2221999:             1.701479     323240         215    47.09707\n",
        "2222000:             1.699656    5308016         215    46.21100\n",
        "         fragment_buoyant_density fragment_start fragment_length\n",
        "      1:                 1.716237        2203273           12960\n",
        "      2:                 1.716030        5261552           11110\n",
        "      3:                 1.716106        5261559           10798\n",
        "      4:                 1.715531        5264670           13774\n",
        "      5:                 1.714791        2211480           12565\n",
        "     ---                                                        \n",
        "2221996:                 1.704939        1277976            6588\n",
        "2221997:                 1.711455        1506629            5809\n",
        "2221998:                 1.704200        3987706            5308\n",
        "2221999:                 1.706155         318123            6459\n",
        "2222000:                 1.705287        5305459            5384\n",
        "                                         file                data\n",
        "      1: Fragment size\\ndistribution: 12.5 kb amplicon\\nfragments\n",
        "      2: Fragment size\\ndistribution: 12.5 kb amplicon\\nfragments\n",
        "      3: Fragment size\\ndistribution: 12.5 kb amplicon\\nfragments\n",
        "      4: Fragment size\\ndistribution: 12.5 kb amplicon\\nfragments\n",
        "      5: Fragment size\\ndistribution: 12.5 kb amplicon\\nfragments\n",
        "     ---                                                         \n",
        "2221996:    Fragment size\\ndistribution: 6 kb  shotgun\\nfragments\n",
        "2221997:    Fragment size\\ndistribution: 6 kb  shotgun\\nfragments\n",
        "2221998:    Fragment size\\ndistribution: 6 kb  shotgun\\nfragments\n",
        "2221999:    Fragment size\\ndistribution: 6 kb  shotgun\\nfragments\n",
        "2222000:    Fragment size\\ndistribution: 6 kb  shotgun\\nfragments\n"
       ]
      }
     ],
     "prompt_number": 36
    },
    {
     "cell_type": "markdown",
     "metadata": {},
     "source": [
      "### Merging bacterial & archaeal tables "
     ]
    },
    {
     "cell_type": "code",
     "collapsed": false,
     "input": [
      "%%R\n",
      "# merging tables\n",
      "tbl.bac[, domain:= 'Bacteria']\n",
      "tbl.arc[, domain:= 'Archaea']\n",
      "#tbl = rbind(tbl.bac, tbl.arc)\n",
      "#tbl$domain = factor(tbl$domain, levels=c('Bacteria', 'Archaea'))\n",
      "xxx=1"
     ],
     "language": "python",
     "metadata": {},
     "outputs": [],
     "prompt_number": 37
    },
    {
     "cell_type": "markdown",
     "metadata": {},
     "source": [
      "### Plotting fragment length distributions\n"
     ]
    },
    {
     "cell_type": "code",
     "collapsed": false,
     "input": [
      "%%R -h 5 -w 9 -u in\n",
      "# summarizing fragment length distribution\n",
      "\n",
      "# plot of fragment lengths\n",
      "make_frag_len_hist = function(x){\n",
      "    p = ggplot(x, aes(fragment_length)) +\n",
      "        geom_histogram(binwidth=100) +\n",
      "        labs(x='Fragment length (bp)', y='Count') +\n",
      "        facet_grid(data ~ file, scales='free') +\n",
      "        theme(\n",
      "            text = element_text(size=16),\n",
      "            axis.text.x = element_text(angle=45)\n",
      "            )\n",
      "    return(p)\n",
      "    }\n",
      "\n",
      "# plotting bacterial fragments\n",
      "p.bac = make_frag_len_hist(tbl.bac)\n",
      "#ggsave(p.bac, file=\"~/notebook/deltaGC_notes/data/amp-mg/figures/frag-len-dist_bac.tiff\", dpi=300, height=5, width=9, units='in')\n",
      "print(p.bac)"
     ],
     "language": "python",
     "metadata": {},
     "outputs": [
      {
       "metadata": {},
       "output_type": "display_data",
       "png": "[encoded data removed]"
      }
     ],
     "prompt_number": 44
    },
    {
     "cell_type": "code",
     "collapsed": false,
     "input": [
      "%%R -h 5 -w 9 -u in\n",
      "# plotting archaeal fragments\n",
      "p.arc = make_frag_len_hist(tbl.arc)\n",
      "#ggsave(p.arc, file=\"~/notebook/deltaGC_notes/data/amp-mg/figures/frag-len-dist_arc.tiff\", dpi=300, height=5, width=9, units='in')\n",
      "print(p.arc)"
     ],
     "language": "python",
     "metadata": {},
     "outputs": [
      {
       "metadata": {},
       "output_type": "display_data",
       "png": "[encoded data removed]"
      }
     ],
     "prompt_number": 45
    },
    {
     "cell_type": "code",
     "collapsed": false,
     "input": [],
     "language": "python",
     "metadata": {},
     "outputs": []
    }
   ],
   "metadata": {}
  }
 ]
}