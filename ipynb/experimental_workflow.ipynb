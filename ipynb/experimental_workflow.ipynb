{
 "metadata": {
  "name": "",
  "signature": "sha256:0d580a0e5179034ac4bacd14ea0edeb29e5d2b76b726cbf4a4ecf7d1c6959d9c"
 },
 "nbformat": 3,
 "nbformat_minor": 0,
 "worksheets": [
  {
   "cells": [
    {
     "cell_type": "markdown",
     "metadata": {},
     "source": [
      "# Description:\n",
      "\n",
      "General workflow outline for the paper: \n",
      "\n",
      "## Dataset generation\n",
      "\n",
      "* Retrieve complete bacterial & archaeal genomes from NCBI\n",
      "* Select 1 representive from each species\n",
      "\n",
      "## GC sliding window analysis\n",
      "\n",
      "* Identify ssu, lsu, and tsu genes in each genom\n",
      "* For each genome: sliding window analysis of GC around each 16S rRNA gene\n",
      "\n",
      "## Fragment simulation\n",
      "\n",
      "* For each genome: simulate 1000 amplicons & 10000 shotgun reads\n",
      "* For each amplicon/read: simulate a template fragment\n",
      "* For each template fragment: calculate GC content and buoyant density (BD)\n",
      "* For all fragments from each genome: bin fragments by BD and assess the distributions"
     ]
    },
    {
     "cell_type": "code",
     "collapsed": false,
     "input": [],
     "language": "python",
     "metadata": {},
     "outputs": []
    }
   ],
   "metadata": {}
  }
 ]
}