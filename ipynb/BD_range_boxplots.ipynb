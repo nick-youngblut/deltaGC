{
 "metadata": {
  "name": "",
  "signature": "sha256:430bbaec48a52dd3f28213fa585ae3b1853c223b3dbb52f07b7477c51f945f66"
 },
 "nbformat": 3,
 "nbformat_minor": 0,
 "worksheets": [
  {
   "cells": [
    {
     "cell_type": "markdown",
     "metadata": {},
     "source": [
      "# Description:\n",
      "\n",
      "* Making boxplots show BD range encompassing 95% of reads\n",
      " * Plotting for bacteria & archaea\n",
      " * both fragment size distributions\n",
      " * amplicon- & shotgun-fragments"
     ]
    },
    {
     "cell_type": "code",
     "collapsed": false,
     "input": [
      "%load_ext rmagic\n",
      "%load_ext rpy2.ipython"
     ],
     "language": "python",
     "metadata": {},
     "outputs": [
      {
       "output_type": "stream",
       "stream": "stderr",
       "text": [
        "/opt/anaconda/lib/python2.7/site-packages/pytz/__init__.py:29: UserWarning: Module argparse was already imported from /opt/anaconda/lib/python2.7/argparse.pyc, but /opt/anaconda/lib/python2.7/site-packages is being added to sys.path\n",
        "  from pkg_resources import resource_stream\n"
       ]
      }
     ],
     "prompt_number": 1
    },
    {
     "cell_type": "code",
     "collapsed": false,
     "input": [
      "%%R\n",
      "require(ggplot2)\n",
      "require(reshape)\n",
      "require(data.table)\n",
      "require(gridExtra)"
     ],
     "language": "python",
     "metadata": {},
     "outputs": [
      {
       "metadata": {},
       "output_type": "display_data",
       "text": [
        "Loading required package: ggplot2\n",
        "Loading required package: reshape\n",
        "Loading required package: data.table\n",
        "data.table 1.9.2  For help type: help(\"data.table\")\n",
        "Loading required package: gridExtra\n",
        "Loading required package: grid\n"
       ]
      }
     ],
     "prompt_number": 2
    },
    {
     "cell_type": "markdown",
     "metadata": {},
     "source": [
      "## Loading bacteria data"
     ]
    },
    {
     "cell_type": "markdown",
     "metadata": {},
     "source": [
      "### Loading amplicon data"
     ]
    },
    {
     "cell_type": "code",
     "collapsed": false,
     "input": [
      "%%R\n",
      "# loading amplicon data \n",
      "base.dir = \"~/notebook/deltaGC_notes/data/amplicon/140411_allBac/amp454-L215-N1k\";\n",
      "files = c(\n",
      "    'skewnorm_m15k_r4k-20k',\n",
      "    'skewnorm_m10k_r4k-11.5k'\n",
      "    )\n",
      "\n",
      "tbl.l = list()\n",
      "for(i in files){\n",
      "    in.file = paste(c(i, \"txt\"), collapse=\".\")\n",
      "    in.file = paste(c(base.dir, in.file), collapse=\"/\")\n",
      "    tbl.l[[i]] = fread(in.file, header=T, sep=\"\\t\")\n",
      "    tbl.l[[i]]$file = rep(i, nrow(tbl.l[[i]]))\n",
      "    }\n",
      "\n",
      "\n",
      "## merging lists\n",
      "tbl.amp = do.call(rbind, tbl.l)\n",
      "tbl.amp$data = rep('amplicon\\nfragments', nrow(tbl.amp))\n",
      "tbl.l = list()\n",
      "\n"
     ],
     "language": "python",
     "metadata": {},
     "outputs": [
      {
       "metadata": {},
       "output_type": "display_data",
       "text": [
        "\r",
        "Read 52.2% of 1091000 rows\r",
        "Read 78.8% of 1091000 rows\r",
        "Read 1091000 rows and 11 (of 11) columns from 0.151 GB file in 00:00:04\n",
        "\r",
        "Read 96.2% of 1091000 rows\r",
        "Read 1091000 rows and 11 (of 11) columns from 0.150 GB file in 00:00:03\n"
       ]
      }
     ],
     "prompt_number": 3
    },
    {
     "cell_type": "markdown",
     "metadata": {},
     "source": [
      "### Loading shotgun data"
     ]
    },
    {
     "cell_type": "code",
     "collapsed": false,
     "input": [
      "%%R\n",
      "# loading shotgun read data\n",
      "base.dir = \"~/notebook/deltaGC_notes/data/mg-reads/140411_allBac/mg454-L215-N10k\";\n",
      "files = list(\n",
      "    'skewnorm_m15k_r4k-20k',\n",
      "    'skewnorm_m10k_r4k-11.5k'\n",
      "    )\n",
      "\n",
      "tbl.l = list()\n",
      "for(i in files){\n",
      "    in.file = paste(c(i, \"txt\"), collapse=\".\")\n",
      "    in.file = paste(c(base.dir, in.file), collapse=\"/\")\n",
      "    tbl.l[[i]] = fread(in.file, header=T, sep=\"\\t\")\n",
      "    tbl.l[[i]]$file = rep(i, nrow(tbl.l[[i]]))\n",
      "    }\n",
      "\n",
      "\n",
      "## merging lists\n",
      "tbl.mg = do.call(rbind, tbl.l)\n",
      "tbl.mg$data = rep('shotgun\\nfragments', nrow(tbl.mg))\n",
      "tbl.l = list()\n"
     ],
     "language": "python",
     "metadata": {},
     "outputs": [
      {
       "metadata": {},
       "output_type": "display_data",
       "text": [
        "\r",
        "Read 0.0% of 10910000 rows\r",
        "Read 6.0% of 10910000 rows\r",
        "Read 9.1% of 10910000 rows\r",
        "Read 11.5% of 10910000 rows\r",
        "Read 14.2% of 10910000 rows\r",
        "Read 16.8% of 10910000 rows\r",
        "Read 19.2% of 10910000 rows\r",
        "Read 21.1% of 10910000 rows\r",
        "Read 23.1% of 10910000 rows\r",
        "Read 24.7% of 10910000 rows\r",
        "Read 27.0% of 10910000 rows\r",
        "Read 29.6% of 10910000 rows\r",
        "Read 32.3% of 10910000 rows\r",
        "Read 35.0% of 10910000 rows\r",
        "Read 37.9% of 10910000 rows\r",
        "Read 41.0% of 10910000 rows\r",
        "Read 44.2% of 10910000 rows\r",
        "Read 47.6% of 10910000 rows\r",
        "Read 51.1% of 10910000 rows\r",
        "Read 54.9% of 10910000 rows\r",
        "Read 58.8% of 10910000 rows\r",
        "Read 62.9% of 10910000 rows\r",
        "Read 67.2% of 10910000 rows\r",
        "Read 71.7% of 10910000 rows\r",
        "Read 76.4% of 10910000 rows\r",
        "Read 80.1% of 10910000 rows\r",
        "Read 81.5% of 10910000 rows\r",
        "Read 86.7% of 10910000 rows\r",
        "Read 92.2% of 10910000 rows\r",
        "Read 98.0% of 10910000 rows\r",
        "Read 10910000 rows and 11 (of 11) columns from 1.523 GB file in 00:00:51\n",
        "\r",
        "Read 0.0% of 10910000 rows\r",
        "Read 6.9% of 10910000 rows\r",
        "Read 13.7% of 10910000 rows\r",
        "Read 20.7% of 10910000 rows\r",
        "Read 27.7% of 10910000 rows\r",
        "Read 34.6% of 10910000 rows\r",
        "Read 41.4% of 10910000 rows\r",
        "Read 48.2% of 10910000 rows\r",
        "Read 54.9% of 10910000 rows\r",
        "Read 61.6% of 10910000 rows\r",
        "Read 68.2% of 10910000 rows\r",
        "Read 74.7% of 10910000 rows\r",
        "Read 81.6% of 10910000 rows\r",
        "Read 88.6% of 10910000 rows\r",
        "Read 95.9% of 10910000 rows\r",
        "Read 10910000 rows and 11 (of 11) columns from 1.512 GB file in 00:00:20\n"
       ]
      }
     ],
     "prompt_number": 4
    },
    {
     "cell_type": "code",
     "collapsed": false,
     "input": [
      "%%R\n",
      "## merging amp & mg tables\n",
      "tbl.bac = rbind(tbl.amp, tbl.mg)\n",
      "tbl.amp = vector()  # clearing memory\n",
      "tbl.mg = vector()\n"
     ],
     "language": "python",
     "metadata": {},
     "outputs": [],
     "prompt_number": 5
    },
    {
     "cell_type": "code",
     "collapsed": false,
     "input": [
      "%%R\n",
      "# editing $file names\n",
      "tbl.bac[, file:=gsub(\"skewnorm_m15k_r4k-20k\", \"Fragment size\\ndistribution: 12.5kb\", file)]\n",
      "tbl.bac[, file:=gsub(\"skewnorm_m10k_r4k-11.5k\", \"Fragment size\\ndistribution: 6kb\", file)]\n"
     ],
     "language": "python",
     "metadata": {},
     "outputs": [
      {
       "metadata": {},
       "output_type": "display_data",
       "text": [
        "                                 genome scaffold           read  read_GC\n",
        "       1:  Agrobacterium_fabrum_str_C58 AE007869  AE007869__499 52.55814\n",
        "       2:  Agrobacterium_fabrum_str_C58 AE007869  AE007869__498 52.55814\n",
        "       3:  Agrobacterium_fabrum_str_C58 AE007869  AE007869__495 52.55814\n",
        "       4:  Agrobacterium_fabrum_str_C58 AE007869  AE007869__497 52.55814\n",
        "       5:  Agrobacterium_fabrum_str_C58 AE007869  AE007869__496 52.55814\n",
        "      ---                                                               \n",
        "24001996: Salmonella_bongori_NCTC_12419 FR877557 FR877557__2790 57.20930\n",
        "24001997: Salmonella_bongori_NCTC_12419 FR877557 FR877557__2797 29.76744\n",
        "24001998: Salmonella_bongori_NCTC_12419 FR877557 FR877557__2796 44.18605\n",
        "24001999: Salmonella_bongori_NCTC_12419 FR877557 FR877557__2795 50.23256\n",
        "24002000: Salmonella_bongori_NCTC_12419 FR877557 FR877557__2794 53.95349\n",
        "          read_buoyant_density read_start read_length fragment_GC\n",
        "       1:             1.711507     114437         215    53.02019\n",
        "       2:             1.711507     114437         215    55.41002\n",
        "       3:             1.711507    5035543         215    52.92066\n",
        "       4:             1.711507    5035543         215    53.45668\n",
        "       5:             1.711507     114437         215    56.14006\n",
        "      ---                                                        \n",
        "24001996:             1.716065    1863392         215    53.96161\n",
        "24001997:             1.689172    8744011         215    44.52086\n",
        "24001998:             1.703302    8668917         215    46.68961\n",
        "24001999:             1.709228    6849897         215    54.76029\n",
        "24002000:             1.712874    3975166         215    45.70962\n",
        "          fragment_buoyant_density fragment_start fragment_length\n",
        "       1:                 1.711960         114273           12284\n",
        "       2:                 1.714302         107900           14048\n",
        "       3:                 1.711862        5024735           14911\n",
        "       4:                 1.712388        5030946           10053\n",
        "       5:                 1.715017         107683           12109\n",
        "      ---                                                        \n",
        "24001996:                 1.712882        1861101            5730\n",
        "24001997:                 1.703630        8742874            6543\n",
        "24001998:                 1.705756        8667460            6102\n",
        "24001999:                 1.713665        6849320            5882\n",
        "24002000:                 1.704795        3972279            6130\n",
        "                                         file                data\n",
        "       1: Fragment size\\ndistribution: 12.5kb amplicon\\nfragments\n",
        "       2: Fragment size\\ndistribution: 12.5kb amplicon\\nfragments\n",
        "       3: Fragment size\\ndistribution: 12.5kb amplicon\\nfragments\n",
        "       4: Fragment size\\ndistribution: 12.5kb amplicon\\nfragments\n",
        "       5: Fragment size\\ndistribution: 12.5kb amplicon\\nfragments\n",
        "      ---                                                        \n",
        "24001996:    Fragment size\\ndistribution: 6kb  shotgun\\nfragments\n",
        "24001997:    Fragment size\\ndistribution: 6kb  shotgun\\nfragments\n",
        "24001998:    Fragment size\\ndistribution: 6kb  shotgun\\nfragments\n",
        "24001999:    Fragment size\\ndistribution: 6kb  shotgun\\nfragments\n",
        "24002000:    Fragment size\\ndistribution: 6kb  shotgun\\nfragments\n"
       ]
      }
     ],
     "prompt_number": 6
    },
    {
     "cell_type": "markdown",
     "metadata": {},
     "source": [
      "## Loading archaea data"
     ]
    },
    {
     "cell_type": "markdown",
     "metadata": {},
     "source": [
      "### Loading amplicon data"
     ]
    },
    {
     "cell_type": "code",
     "collapsed": false,
     "input": [
      "%%R\n",
      "base.dir = \"~/notebook/deltaGC_notes/data/amplicon/140416_allArc/amp454-L215-N1k\";\n",
      "files = c(\n",
      "    'skewnorm_m15k_r4k-20k',\n",
      "    'skewnorm_m10k_r4k-11.5k'\n",
      "    )\n",
      "\n",
      "tbl.l = list()\n",
      "for(i in files){\n",
      "    in.file = paste(c(i, \"txt\"), collapse=\".\")\n",
      "    in.file = paste(c(base.dir, in.file), collapse=\"/\")\n",
      "    tbl.l[[i]] = fread(in.file, header=T, sep=\"\\t\")\n",
      "    tbl.l[[i]]$file = rep(i, nrow(tbl.l[[i]]))\n",
      "    }\n",
      "\n",
      "## merging lists\n",
      "tbl.amp = do.call(rbind, tbl.l)\n",
      "tbl.amp$data = rep('amplicon\\nfragments', nrow(tbl.amp))\n",
      "tbl.l = list()\n"
     ],
     "language": "python",
     "metadata": {},
     "outputs": [],
     "prompt_number": 7
    },
    {
     "cell_type": "markdown",
     "metadata": {},
     "source": [
      "### Loading shotgun read data"
     ]
    },
    {
     "cell_type": "code",
     "collapsed": false,
     "input": [
      "%%R\n",
      "base.dir = \"~/notebook/deltaGC_notes/data/mg-reads/140417_allArc/mg454-L215-N10k\";\n",
      "files = list(\n",
      "    'skewnorm_m15k_r4k-20k',\n",
      "    'skewnorm_m10k_r4k-11.5k'\n",
      "    )\n",
      "\n",
      "tbl.l = list()\n",
      "for(i in files){\n",
      "    in.file = paste(c(i, \"txt\"), collapse=\".\")\n",
      "    in.file = paste(c(base.dir, in.file), collapse=\"/\")\n",
      "    tbl.l[[i]] = fread(in.file, header=T, sep=\"\\t\")\n",
      "    tbl.l[[i]]$file = rep(i, nrow(tbl.l[[i]]))\n",
      "    }\n",
      "\n",
      "\n",
      "## merging lists\n",
      "tbl.mg = do.call(rbind, tbl.l)\n",
      "tbl.mg$data = rep('shotgun\\nfragments', nrow(tbl.mg))\n",
      "tbl.l = list()\n",
      "\n"
     ],
     "language": "python",
     "metadata": {},
     "outputs": [],
     "prompt_number": 8
    },
    {
     "cell_type": "code",
     "collapsed": false,
     "input": [
      "%%R\n",
      "## merging amp & mg tables\n",
      "tbl.arc = rbind(tbl.amp, tbl.mg)\n",
      "tbl.amp = vector()\n",
      "tbl.mg = vector()\n"
     ],
     "language": "python",
     "metadata": {},
     "outputs": [],
     "prompt_number": 9
    },
    {
     "cell_type": "code",
     "collapsed": false,
     "input": [
      "%%R\n",
      "# editing $file names\n",
      "tbl.arc[, file:=gsub(\"skewnorm_m15k_r4k-20k\", \"Fragment size\\ndistribution: 12.5kb\", file)]\n",
      "tbl.arc[, file:=gsub(\"skewnorm_m10k_r4k-11.5k\", \"Fragment size\\ndistribution: 6kb\", file)]\n",
      "\n"
     ],
     "language": "python",
     "metadata": {},
     "outputs": [
      {
       "metadata": {},
       "output_type": "display_data",
       "text": [
        "                                    genome scaffold           read  read_GC\n",
        "      1: Haloarcula_marismortui_ATCC_43049 AY596297   AY596297__33 54.41860\n",
        "      2: Haloarcula_marismortui_ATCC_43049 AY596297  AY596297__791 63.72093\n",
        "      3: Haloarcula_marismortui_ATCC_43049 AY596297   AY596297__37 63.72093\n",
        "      4: Haloarcula_marismortui_ATCC_43049 AY596297   AY596297__36 63.72093\n",
        "      5: Haloarcula_marismortui_ATCC_43049 AY596297  AY596297__797 54.41860\n",
        "     ---                                                                   \n",
        "2221996:         Haloquadratum_walsbyi_C23 FR746099 FR746099__8237 44.65116\n",
        "2221997:         Haloquadratum_walsbyi_C23 FR746099 FR746099__8230 49.76744\n",
        "2221998:         Haloquadratum_walsbyi_C23 FR746099 FR746099__8231 43.25581\n",
        "2221999:         Haloquadratum_walsbyi_C23 FR746099 FR746099__8232 42.32558\n",
        "2222000:         Haloquadratum_walsbyi_C23 FR746099 FR746099__8233 40.46512\n",
        "         read_buoyant_density read_start read_length fragment_GC\n",
        "      1:             1.713330    2215176         215    57.38426\n",
        "      2:             1.722447    5265667         215    57.17372\n",
        "      3:             1.722447    5265667         215    57.25134\n",
        "      4:             1.722447    5265667         215    56.66473\n",
        "      5:             1.713330    2215176         215    55.90927\n",
        "     ---                                                        \n",
        "2221996:             1.703758    1283771         215    45.85610\n",
        "2221997:             1.708772    1506868         215    52.50473\n",
        "2221998:             1.702391    3992795         215    45.10173\n",
        "2221999:             1.701479     323240         215    47.09707\n",
        "2222000:             1.699656    5308016         215    46.21100\n",
        "         fragment_buoyant_density fragment_start fragment_length\n",
        "      1:                 1.716237        2203273           12960\n",
        "      2:                 1.716030        5261552           11110\n",
        "      3:                 1.716106        5261559           10798\n",
        "      4:                 1.715531        5264670           13774\n",
        "      5:                 1.714791        2211480           12565\n",
        "     ---                                                        \n",
        "2221996:                 1.704939        1277976            6588\n",
        "2221997:                 1.711455        1506629            5809\n",
        "2221998:                 1.704200        3987706            5308\n",
        "2221999:                 1.706155         318123            6459\n",
        "2222000:                 1.705287        5305459            5384\n",
        "                                        file                data\n",
        "      1: Fragment size\\ndistribution: 12.5kb amplicon\\nfragments\n",
        "      2: Fragment size\\ndistribution: 12.5kb amplicon\\nfragments\n",
        "      3: Fragment size\\ndistribution: 12.5kb amplicon\\nfragments\n",
        "      4: Fragment size\\ndistribution: 12.5kb amplicon\\nfragments\n",
        "      5: Fragment size\\ndistribution: 12.5kb amplicon\\nfragments\n",
        "     ---                                                        \n",
        "2221996:    Fragment size\\ndistribution: 6kb  shotgun\\nfragments\n",
        "2221997:    Fragment size\\ndistribution: 6kb  shotgun\\nfragments\n",
        "2221998:    Fragment size\\ndistribution: 6kb  shotgun\\nfragments\n",
        "2221999:    Fragment size\\ndistribution: 6kb  shotgun\\nfragments\n",
        "2222000:    Fragment size\\ndistribution: 6kb  shotgun\\nfragments\n"
       ]
      }
     ],
     "prompt_number": 10
    },
    {
     "cell_type": "markdown",
     "metadata": {},
     "source": [
      "### Merging bacterial & archaeal tables "
     ]
    },
    {
     "cell_type": "code",
     "collapsed": false,
     "input": [
      "%%R\n",
      "# merging tables\n",
      "tbl.bac[, domain:= 'Bacteria']\n",
      "tbl.arc[, domain:= 'Archaea']\n",
      "tbl = rbind(tbl.bac, tbl.arc)\n",
      "tbl$domain = factor(tbl$domain, levels=c('Bacteria', 'Archaea'))"
     ],
     "language": "python",
     "metadata": {},
     "outputs": [],
     "prompt_number": 11
    },
    {
     "cell_type": "markdown",
     "metadata": {},
     "source": [
      "### Calculating confidence intervals\n"
     ]
    },
    {
     "cell_type": "code",
     "collapsed": false,
     "input": [
      "%%R\n",
      "# t-based CI\n",
      "t.ci.range = function(x){\n",
      "# 0.95 CI\n",
      "# x = vector    \n",
      "    x = as.vector(x)\n",
      "    m = mean(x)\n",
      "    s = sd(x)\n",
      "    n = length(x)\n",
      "    \n",
      "    error <- qt(0.975,df=n-1)*s/sqrt(n)\n",
      "    ci.range = error * 2\n",
      "    return(ci.range)\n",
      "}\n",
      "tbl[, t.ci.range := t.ci.range(fragment_buoyant_density), by='file,data,genome']\n",
      "\n",
      "tbl[,frag_variance := var(fragment_buoyant_density), by='file,data,genome']\n",
      "tbl[,frag_stdev := sd(fragment_buoyant_density), by='file,data,genome']\n",
      "\n",
      "\n",
      "print(summary(unique(tbl$t.ci.range)))\n",
      "print(summary(unique(tbl$frag_variance)))\n",
      "print(summary(unique(tbl$frag_stdev)))"
     ],
     "language": "python",
     "metadata": {},
     "outputs": [
      {
       "metadata": {},
       "output_type": "display_data",
       "text": [
        "     Min.   1st Qu.    Median      Mean   3rd Qu.      Max. \n",
        "3.039e-05 1.017e-04 1.400e-04 1.998e-04 2.623e-04 9.366e-04 \n",
        "     Min.   1st Qu.    Median      Mean   3rd Qu.      Max. \n",
        "5.997e-08 3.556e-06 6.471e-06 7.990e-06 1.029e-05 7.358e-05 \n",
        "     Min.   1st Qu.    Median      Mean   3rd Qu.      Max. \n",
        "0.0002449 0.0018860 0.0025440 0.0026000 0.0032080 0.0085780 \n"
       ]
      }
     ],
     "prompt_number": 12
    },
    {
     "cell_type": "code",
     "collapsed": false,
     "input": [
      "%%R -w 7 -h 6 -u in\n",
      "# plotting range of values\n",
      "tbl[, range := (max(fragment_buoyant_density) - min(fragment_buoyant_density)), by='file,data,genome']\n",
      "\n",
      "# dereplicating by file,data,genome,range\n",
      "tbl.s = tbl[, sum(1), by='domain,file,data,genome,range']\n",
      "\n",
      "# plotting \n",
      "y.axis.t = expression(atop('Intra-genomic fragment buoyant', paste('density range (g ', ml^-1, ')')))\n",
      "p = ggplot( tbl.s, aes(data, range) ) +\n",
      "        geom_boxplot() +\n",
      "        labs(x='fragment simulation', y=y.axis.t) +\n",
      "        facet_grid(domain ~ file) +        \n",
      "        theme( \n",
      "            text = element_text(size=18),\n",
      "            axis.title.x = element_blank(),\n",
      "            axis.text.x = element_text(color='black'),\n",
      "            axis.text.y = element_text(color='black')            \n",
      "            )\n",
      "ggsave(\"/home/nick/notebook/deltaGC_notes/data/amp-mg/figures/BD_min-max-range_bac-arc_boxplot.tiff\",\n",
      "          width=7, height=6, units='in', dpi=300)\n",
      "print(p)"
     ],
     "language": "python",
     "metadata": {},
     "outputs": [
      {
       "metadata": {},
       "output_type": "display_data",
       "png": "[encoded data removed]"
      }
     ],
     "prompt_number": 16
    },
    {
     "cell_type": "code",
     "collapsed": false,
     "input": [
      "%%R\n",
      "# min-max ranges\n",
      "tbl.min = tbl.s[, min(range), by='domain,file,data']\n",
      "print(tbl.min)\n",
      "tbl.max = tbl.s[, max(range), by='domain,file,data']\n",
      "print(tbl.max)"
     ],
     "language": "python",
     "metadata": {},
     "outputs": [
      {
       "metadata": {},
       "output_type": "display_data",
       "text": [
        "     domain                                file                data          V1\n",
        "1: Bacteria Fragment size\\ndistribution: 12.5kb amplicon\\nfragments 0.001927566\n",
        "2: Bacteria    Fragment size\\ndistribution: 6kb amplicon\\nfragments 0.001481565\n",
        "3: Bacteria Fragment size\\ndistribution: 12.5kb  shotgun\\nfragments 0.007203698\n",
        "4: Bacteria    Fragment size\\ndistribution: 6kb  shotgun\\nfragments 0.009448307\n",
        "5:  Archaea Fragment size\\ndistribution: 12.5kb amplicon\\nfragments 0.003496030\n",
        "6:  Archaea    Fragment size\\ndistribution: 6kb amplicon\\nfragments 0.001884219\n",
        "7:  Archaea Fragment size\\ndistribution: 12.5kb  shotgun\\nfragments 0.016577551\n",
        "8:  Archaea    Fragment size\\ndistribution: 6kb  shotgun\\nfragments 0.020041700\n",
        "     domain                                file                data         V1\n",
        "1: Bacteria Fragment size\\ndistribution: 12.5kb amplicon\\nfragments 0.02843551\n",
        "2: Bacteria    Fragment size\\ndistribution: 6kb amplicon\\nfragments 0.02263619\n",
        "3: Bacteria Fragment size\\ndistribution: 12.5kb  shotgun\\nfragments 0.04146382\n",
        "4: Bacteria    Fragment size\\ndistribution: 6kb  shotgun\\nfragments 0.04488895\n",
        "5:  Archaea Fragment size\\ndistribution: 12.5kb amplicon\\nfragments 0.02719587\n",
        "6:  Archaea    Fragment size\\ndistribution: 6kb amplicon\\nfragments 0.02304143\n",
        "7:  Archaea Fragment size\\ndistribution: 12.5kb  shotgun\\nfragments 0.04106626\n",
        "8:  Archaea    Fragment size\\ndistribution: 6kb  shotgun\\nfragments 0.04376268\n"
       ]
      }
     ],
     "prompt_number": 50
    },
    {
     "cell_type": "markdown",
     "metadata": {},
     "source": [
      "### t-test: BD variance > for shorter fragment sizes?"
     ]
    },
    {
     "cell_type": "code",
     "collapsed": false,
     "input": [
      "%%R\n",
      "tmp = t.test(range ~ file, data=subset(tbl.s, data=='amplicon\\nfragments' & domain=='Bacteria'), alternative='greater')\n",
      "\n",
      "print(tmp)\n",
      "print(names(tmp))"
     ],
     "language": "python",
     "metadata": {},
     "outputs": [
      {
       "metadata": {},
       "output_type": "display_data",
       "text": [
        "\n",
        "\tWelch Two Sample t-test\n",
        "\n",
        "data:  range by file\n",
        "t = 10.7926, df = 2123.143, p-value < 2.2e-16\n",
        "alternative hypothesis: true difference in means is greater than 0\n",
        "95 percent confidence interval:\n",
        " 0.001599368         Inf\n",
        "sample estimates:\n",
        "mean in group Fragment size\\ndistribution: 12.5kb \n",
        "                                      0.010175775 \n",
        "   mean in group Fragment size\\ndistribution: 6kb \n",
        "                                      0.008288676 \n",
        "\n",
        "[1] \"statistic\"   \"parameter\"   \"p.value\"     \"conf.int\"    \"estimate\"   \n",
        "[6] \"null.value\"  \"alternative\" \"method\"      \"data.name\"  \n"
       ]
      }
     ],
     "prompt_number": 90
    },
    {
     "cell_type": "code",
     "collapsed": false,
     "input": [
      "%%R\n",
      "require(effsize)\n",
      "\n",
      "# t-test on just amplicon fragments\n",
      "print('#---amplicon-bacteria---#')\n",
      "print(\n",
      "    t.test(range ~ file, data=subset(tbl.s, data=='amplicon\\nfragments' & domain=='Bacteria'), alternative='greater')\n",
      "    )\n",
      "print(\n",
      "    cohen.d(range ~ file, data=subset(tbl.s, data=='amplicon\\nfragments' & domain=='Bacteria') )\n",
      "    )\n",
      "\n",
      "print('#---amplicon-archaea---#')\n",
      "print(\n",
      "    t.test(range ~ file, data=subset(tbl.s, data=='amplicon\\nfragments' & domain=='Archaea'), alternative='greater')\n",
      "    )\n",
      "print(\n",
      "    cohen.d(range ~ file, data=subset(tbl.s, data=='amplicon\\nfragments' & domain=='Archaea') )\n",
      "    )\n",
      "\n",
      "\n",
      "\n",
      "# t-test on just shotgun fragments\n",
      "print('#---shotgun-bacteria---#')\n",
      "print(\n",
      "    t.test(range ~ file, data=subset(tbl.s, data=='shotgun\\nfragments' & domain=='Bacteria'), alternative='less')\n",
      "    )\n",
      "print(\n",
      "    cohen.d(range ~ file, data=subset(tbl.s, data=='shotgun\\nfragments' & domain=='Bacteria') )\n",
      "    )\n",
      "\n",
      "\n",
      "print('#---shotgun-archaea---#')\n",
      "print(\n",
      "    t.test(range ~ file, data=subset(tbl.s, data=='shotgun\\nfragments' & domain=='Archaea'), alternative='less')\n",
      "    )\n",
      "print(\n",
      "    cohen.d(range ~ file, data=subset(tbl.s, data=='shotgun\\nfragments' & domain=='Archaea') )\n",
      "    )\n"
     ],
     "language": "python",
     "metadata": {},
     "outputs": [
      {
       "metadata": {},
       "output_type": "display_data",
       "text": [
        "[1] \"#---amplicon-bacteria---#\"\n",
        "\n",
        "\tWelch Two Sample t-test\n",
        "\n",
        "data:  range by file\n",
        "t = 10.7926, df = 2123.143, p-value < 2.2e-16\n",
        "alternative hypothesis: true difference in means is greater than 0\n",
        "95 percent confidence interval:\n",
        " 0.001599368         Inf\n",
        "sample estimates:\n",
        "mean in group Fragment size\\ndistribution: 12.5kb \n",
        "                                      0.010175775 \n",
        "   mean in group Fragment size\\ndistribution: 6kb \n",
        "                                      0.008288676 \n",
        "\n",
        "\n",
        "Cohen's d\n",
        "\n",
        "d estimate: 0.4620912 (small)\n",
        "95 percent confidence interval:\n",
        "      inf       sup \n",
        "0.3769742 0.5472081 \n",
        "[1] \"#---amplicon-archaea---#\"\n",
        "\n",
        "\tWelch Two Sample t-test\n",
        "\n",
        "data:  range by file\n",
        "t = 2.7073, df = 196.389, p-value = 0.00369\n",
        "alternative hypothesis: true difference in means is greater than 0\n",
        "95 percent confidence interval:\n",
        " 0.000969188         Inf\n",
        "sample estimates:\n",
        "mean in group Fragment size\\ndistribution: 12.5kb \n",
        "                                      0.012214231 \n",
        "   mean in group Fragment size\\ndistribution: 6kb \n",
        "                                      0.009726363 \n",
        "\n",
        "\n",
        "Cohen's d\n",
        "\n",
        "d estimate: 0.3809748 (small)\n",
        "95 percent confidence interval:\n",
        "      inf       sup \n",
        "0.0995631 0.6623864 \n",
        "[1] \"#---shotgun-bacteria---#\"\n",
        "\n",
        "\tWelch Two Sample t-test\n",
        "\n",
        "data:  range by file\n",
        "t = -16.5409, df = 2179.723, p-value < 2.2e-16\n",
        "alternative hypothesis: true difference in means is less than 0\n",
        "95 percent confidence interval:\n",
        "         -Inf -0.003521847\n",
        "sample estimates:\n",
        "mean in group Fragment size\\ndistribution: 12.5kb \n",
        "                                       0.02332746 \n",
        "   mean in group Fragment size\\ndistribution: 6kb \n",
        "                                       0.02723838 \n",
        "\n",
        "\n",
        "Cohen's d\n",
        "\n",
        "d estimate: -0.7082104 (medium)\n",
        "95 percent confidence interval:\n",
        "       inf        sup \n",
        "-0.7948082 -0.6216125 \n",
        "[1] \"#---shotgun-archaea---#\"\n",
        "\n",
        "\tWelch Two Sample t-test\n",
        "\n",
        "data:  range by file\n",
        "t = -6.2815, df = 199.928, p-value = 1.027e-09\n",
        "alternative hypothesis: true difference in means is less than 0\n",
        "95 percent confidence interval:\n",
        "         -Inf -0.003163461\n",
        "sample estimates:\n",
        "mean in group Fragment size\\ndistribution: 12.5kb \n",
        "                                       0.02758458 \n",
        "   mean in group Fragment size\\ndistribution: 6kb \n",
        "                                       0.03187737 \n",
        "\n",
        "\n",
        "Cohen's d\n",
        "\n",
        "d estimate: -0.8839299 (large)\n",
        "95 percent confidence interval:\n",
        "       inf        sup \n",
        "-1.1762289 -0.5916308 \n"
       ]
      }
     ],
     "prompt_number": 93
    },
    {
     "cell_type": "code",
     "collapsed": false,
     "input": [],
     "language": "python",
     "metadata": {},
     "outputs": []
    }
   ],
   "metadata": {}
  }
 ]
}