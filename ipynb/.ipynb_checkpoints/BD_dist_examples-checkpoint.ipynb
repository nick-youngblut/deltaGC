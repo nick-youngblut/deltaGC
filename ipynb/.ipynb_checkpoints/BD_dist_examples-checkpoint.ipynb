{
 "metadata": {
  "name": "",
  "signature": "sha256:5f9eb97ed9e13d5fb71296153130f4d4ff5251c7f2f9a72eefff1030f294e287"
 },
 "nbformat": 3,
 "nbformat_minor": 0,
 "worksheets": [
  {
   "cells": [
    {
     "cell_type": "markdown",
     "metadata": {},
     "source": [
      "# Description:\n",
      "\n",
      "* Example buoyant density distributions for 4 bacteria taxa\n",
      "* Making histograms of example taxa used for 16S region GC conservation figure\n",
      "\n",
      "        \"Clostridium ljungdahlii DSM 13528\",\n",
      "        \"Escherichia coli APEC O78\",\n",
      "        \"Streptomyces griseus subsp griseus\\nNBRC 13350\",\n",
      "        \"Lactobacillus gasseri ATCC 33323\"\n",
      "\n",
      "* Plotting GC content for amplicons & shotgun reads "
     ]
    },
    {
     "cell_type": "markdown",
     "metadata": {},
     "source": [
      "## parsing out just taxa of interest from read GC files\n",
      "\n",
      "### amplicons\n",
      "\n",
      "@ system76-server:~/notebook/deltaGC_notes/data/amplicon/140411_allBac/amp454-L215-N1k/140425_example-taxa\n",
      "\n",
      "* made a file of all 4 taxa\n",
      " * taxa_list.txt\n",
      " \n",
      "    $ head -n 1 ../skewnorm_m10k_r4k-11.5k.txt > skewnorm_m10k_r4k-11.5k_exp.txt; grep -f taxa_list.txt ../skewnorm_m10k_r4k-11.5k.txt >> skewnorm_m10k_r4k-11.5k_exp.txt\n",
      "    \n",
      "    $ head -n 1 ../skewnorm_m15k_r4k-20k.txt > skewnorm_m15k_r4k-20k_exp.txt; grep -f taxa_list.txt ../skewnorm_m15k_r4k-20k.txt >> skewnorm_m15k_r4k-20k_exp.txt\n",
      " \n",
      "### metagenomes\n",
      "\n",
      "@ system76-server:~/notebook/deltaGC_notes/data/mg-reads/140411_allBac/mg454-L215-N10k/140425_example-taxa\n",
      "\n",
      "    $ cp ~/notebook/deltaGC_notes/data/amplicon/140411_allBac/amp454-L215-N1k/140425_example-taxa/taxa_list.txt .\n",
      "\n",
      "    $ head -n 1 ../skewnorm_m10k_r4k-11.5k.txt > skewnorm_m10k_r4k-11.5k_exp.txt; grep -f taxa_list.txt ../skewnorm_m10k_r4k-11.5k.txt >> skewnorm_m10k_r4k-11.5k_exp.txt\n",
      "    \n",
      "    $ head -n 1 ../skewnorm_m15k_r4k-20k.txt > skewnorm_m15k_r4k-20k_exp.txt; grep -f taxa_list.txt ../skewnorm_m15k_r4k-20k.txt >> skewnorm_m15k_r4k-20k_exp.txt\n",
      " \n",
      " "
     ]
    },
    {
     "cell_type": "code",
     "collapsed": false,
     "input": [
      "%load_ext rmagic"
     ],
     "language": "python",
     "metadata": {},
     "outputs": [
      {
       "output_type": "stream",
       "stream": "stderr",
       "text": [
        "/opt/anaconda/lib/python2.7/site-packages/pytz/__init__.py:29: UserWarning: Module argparse was already imported from /opt/anaconda/lib/python2.7/argparse.pyc, but /opt/anaconda/lib/python2.7/site-packages is being added to sys.path\n",
        "  from pkg_resources import resource_stream\n"
       ]
      }
     ],
     "prompt_number": 1
    },
    {
     "cell_type": "code",
     "collapsed": false,
     "input": [
      "%%R\n",
      "# loading tables\n",
      "require(ggplot2)\n",
      "require(data.table)\n",
      "require(gridExtra)"
     ],
     "language": "python",
     "metadata": {},
     "outputs": [
      {
       "metadata": {},
       "output_type": "display_data",
       "text": [
        "Loading required package: ggplot2\n",
        "Loading required package: data.table\n",
        "data.table 1.9.2  For help type: help(\"data.table\")\n",
        "Loading required package: gridExtra\n",
        "Loading required package: grid\n"
       ]
      }
     ],
     "prompt_number": 2
    },
    {
     "cell_type": "markdown",
     "metadata": {},
     "source": [
      "## Loading amplicon deltaGC data"
     ]
    },
    {
     "cell_type": "code",
     "collapsed": false,
     "input": [
      "%%R\n",
      "base.dir = \"~/notebook/deltaGC_notes/data/amplicon/140411_allBac/amp454-L215-N1k/140425_example-taxa\";\n",
      "files = c(\n",
      "    'skewnorm_m15k_r4k-20k_exp',\n",
      "    'skewnorm_m10k_r4k-11.5k_exp'\n",
      "    )\n",
      "\n",
      "tbl.l = list()\n",
      "for(i in files){\n",
      "    in.file = paste(c(i, \"txt\"), collapse=\".\")\n",
      "    in.file = paste(c(base.dir, in.file), collapse=\"/\")\n",
      "    tbl.l[[i]] = fread(in.file, header=T, sep=\"\\t\")\n",
      "    tbl.l[[i]]$file = rep(i, nrow(tbl.l[[i]]))\n",
      "    }\n",
      "\n",
      "tbl.amp = do.call(rbind, tbl.l)"
     ],
     "language": "python",
     "metadata": {},
     "outputs": [],
     "prompt_number": 3
    },
    {
     "cell_type": "markdown",
     "metadata": {},
     "source": [
      "## Loading shotgun read deltaGC data"
     ]
    },
    {
     "cell_type": "code",
     "collapsed": false,
     "input": [
      "%%R\n",
      "base.dir = \"~/notebook/deltaGC_notes/data/mg-reads/140411_allBac/mg454-L215-N10k/140425_example-taxa/\";\n",
      "files = list(\n",
      "    'skewnorm_m15k_r4k-20k_exp',\n",
      "    'skewnorm_m10k_r4k-11.5k_exp'\n",
      "    )\n",
      "\n",
      "tbl.l = list()\n",
      "for(i in files){\n",
      "    in.file = paste(c(i, \"txt\"), collapse=\".\")\n",
      "    in.file = paste(c(base.dir, in.file), collapse=\"/\")\n",
      "    tbl.l[[i]] = fread(in.file, header=T, sep=\"\\t\")\n",
      "    tbl.l[[i]]$file = rep(i, nrow(tbl.l[[i]]))\n",
      "    }\n",
      "\n",
      "tbl.mg = do.call(rbind, tbl.l)"
     ],
     "language": "python",
     "metadata": {},
     "outputs": [],
     "prompt_number": 11
    },
    {
     "cell_type": "markdown",
     "metadata": {},
     "source": [
      "## Merging tables"
     ]
    },
    {
     "cell_type": "code",
     "collapsed": false,
     "input": [
      "%%R\n",
      "# merging tables\n",
      "tbl.amp[, dataset:= 'amplicon']\n",
      "tbl.mg[, dataset:= 'shotgun']\n",
      "tbl = rbind(tbl.amp, tbl.mg)\n",
      "\n",
      "# editting values for plotting\n",
      "tbl[, file:= gsub(\".+m15k.+\", \"12.5 kb\", file)]\n",
      "tbl[, file:= gsub(\".+m10k.+\", \"6 kb\", file)]\n",
      "\n",
      "## editing names\n",
      "examples = c(\n",
      "\"Clostridium_ljungdahlii_DSM_13528\",\n",
      "\"Escherichia_coli_APEC_O78\",\n",
      "\"Streptomyces_griseus_subsp_griseus_NBRC_13350\",  \n",
      "\"Lactobacillus_gasseri_ATCC_33323\"\n",
      ")\n",
      "new.names = c(\n",
      "\"C. ljungdahlii\",\n",
      "\"E. coli\",\n",
      "\"S. griseus\",\n",
      "\"L. gasseri\"\n",
      ")\n",
      "for(i in 1:length(examples)){\n",
      "    tbl$genome = gsub(examples[i], new.names[i], tbl$genome)\n",
      "    }\n",
      "\n",
      "# ordering of taxa\n",
      "tbl$genome = factor(tbl$genome, levels=new.names)\n",
      "\n",
      "# renaming 'dataset' to 'Fragments'\n",
      "tbl[, Fragments := dataset]\n",
      "tbl[, dataset := NULL]"
     ],
     "language": "python",
     "metadata": {},
     "outputs": [
      {
       "metadata": {},
       "output_type": "display_data",
       "text": [
        "           genome scaffold           read  read_GC read_buoyant_density\n",
        "    1: L. gasseri CP000413  CP000413__418 52.55814             1.711507\n",
        "    2: L. gasseri CP000413  CP000413__419 52.55814             1.711507\n",
        "    3: L. gasseri CP000413  CP000413__412 52.55814             1.711507\n",
        "    4: L. gasseri CP000413  CP000413__413 50.69767             1.709684\n",
        "    5: L. gasseri CP000413  CP000413__410 50.69767             1.709684\n",
        "   ---                                                                 \n",
        "87996: S. griseus AP009493 AP009493__2047 60.46512             1.719256\n",
        "87997: S. griseus AP009493 AP009493__2040 67.90698             1.726549\n",
        "87998: S. griseus AP009493 AP009493__2041 70.23256             1.728828\n",
        "87999: S. griseus AP009493 AP009493__2042 74.88372             1.733386\n",
        "88000: S. griseus AP009493 AP009493__2043 79.06977             1.737488\n",
        "       read_start read_length fragment_GC fragment_buoyant_density\n",
        "    1:    3119592         215    49.50342                 1.708513\n",
        "    2:    3585673         215    44.56862                 1.703677\n",
        "    3:    3119592         215    46.30809                 1.705382\n",
        "    4:     956257         215    44.01671                 1.703136\n",
        "    5:    3132922         215    45.14824                 1.704245\n",
        "   ---                                                            \n",
        "87996:   15593419         215    73.57766                 1.732106\n",
        "87997:   13676810         215    72.12288                 1.730680\n",
        "87998:   15347106         215    70.99312                 1.729573\n",
        "87999:   14283447         215    75.82455                 1.734308\n",
        "88000:   10458701         215    75.74225                 1.734227\n",
        "       fragment_start fragment_length    file Fragments\n",
        "    1:        3119429           12284 12.5 kb  amplicon\n",
        "    2:        3579137           14048 12.5 kb  amplicon\n",
        "    3:        3108785           14911 12.5 kb  amplicon\n",
        "    4:         951661           10053 12.5 kb  amplicon\n",
        "    5:        3126169           12109 12.5 kb  amplicon\n",
        "   ---                                                 \n",
        "87996:       15591128            5730    6 kb   shotgun\n",
        "87997:       13675673            6543    6 kb   shotgun\n",
        "87998:       15345649            6102    6 kb   shotgun\n",
        "87999:       14282870            5882    6 kb   shotgun\n",
        "88000:       10455814            6130    6 kb   shotgun\n"
       ]
      }
     ],
     "prompt_number": 12
    },
    {
     "cell_type": "markdown",
     "metadata": {},
     "source": [
      "## Adding whole genome G+C content"
     ]
    },
    {
     "cell_type": "code",
     "collapsed": false,
     "input": [
      "%%R\n",
      "\n",
      "# loading in genome GC table\n",
      "tbl.genGC = fread(\"~/notebook/deltaGC_notes/data/genome_data/prok-bac-genomes_Ngaps_GC/prok-bac-genomes_Ngaps_GC.txt\",\n",
      "                    header=F)\n",
      "## editing table\n",
      "colnames(tbl.genGC) = c('genome', 'genome_GC')\n",
      "tbl.genGC[,genome:=gsub(\".+\\\\/|\\\\.fasta\", \"\", genome)]\n",
      "\n",
      "## selecting taxa of interest\n",
      "examples = c(\n",
      "\"Clostridium_ljungdahlii_DSM_13528\",\n",
      "\"Escherichia_coli_APEC_O78\",\n",
      "\"Streptomyces_griseus_subsp_griseus_NBRC_13350\",  \n",
      "\"Lactobacillus_gasseri_ATCC_33323\"\n",
      ")\n",
      "\n",
      "tbl.genGC = subset(tbl.genGC, genome %in% examples)\n",
      "\n",
      "\n",
      "## changing names\n",
      "new.names = c(\n",
      "\"C. ljungdahlii\",\n",
      "\"E. coli\",\n",
      "\"S. griseus\",\n",
      "\"L. gasseri\"\n",
      ")\n",
      "\n",
      "for(i in 1:length(examples)){\n",
      "    tbl.genGC$genome = gsub(examples[i], new.names[i], tbl.genGC$genome)\n",
      "}\n",
      "\n",
      "\n",
      "## calculating BD for each\n",
      "tbl.genGC[, BD:= 0.098 * genome_GC + 1.66]"
     ],
     "language": "python",
     "metadata": {},
     "outputs": [
      {
       "metadata": {},
       "output_type": "display_data",
       "text": [
        "           genome genome_GC       BD\n",
        "1:     S. griseus 0.7222741 1.730783\n",
        "2:        E. coli 0.5068013 1.709667\n",
        "3: C. ljungdahlii 0.3059600 1.689984\n",
        "4:     L. gasseri 0.3468158 1.693988\n"
       ]
      }
     ],
     "prompt_number": 18
    },
    {
     "cell_type": "code",
     "collapsed": false,
     "input": [
      "%%R -w 7 -h 6 -u in\n",
      "## plotting with mean GC\n",
      "tbl1 = subset( tbl , file='12.5 kb' )\n",
      "\n",
      "# plotting\n",
      "p = ggplot(tbl1, aes(fragment_buoyant_density, fill=Fragments)) + \n",
      "        geom_density(alpha=0.5, size=0.4) +\n",
      "        facet_grid(genome ~ .) +\n",
      "        geom_vline(data=tbl.genGC, aes(xintercept=BD), linetype='dashed') +\n",
      "        labs(x=expression(paste(\"Fragment buoyant density (g \", ml^-1, \")\")), \n",
      "             y=\"Kernel density\") +\n",
      "        theme( \n",
      "            text = element_text(size=18),\n",
      "            axis.title.y = element_text(vjust=0.4),\n",
      "            axis.title.x = element_text(hjust=0.4),\n",
      "            strip.text = element_text(face='italic'),\n",
      "            strip.background = element_rect(size=4)\n",
      "            )\n",
      "#ggsave(\"~/notebook/deltaGC_notes/data/amp-mg/figures/BD-dist_example-bac.tiff\", \n",
      "#          width=7, height=6, units='in', dpi=300)\n",
      "print(p)\n",
      "xxx=1"
     ],
     "language": "python",
     "metadata": {},
     "outputs": [
      {
       "metadata": {},
       "output_type": "display_data",
       "png": "[encoded data removed]"
      }
     ],
     "prompt_number": 47
    },
    {
     "cell_type": "code",
     "collapsed": false,
     "input": [],
     "language": "python",
     "metadata": {},
     "outputs": []
    }
   ],
   "metadata": {}
  }
 ]
}