{
 "metadata": {
  "name": "",
  "signature": "sha256:9ceeee282e5ba35ea00628f13a867a83bde880c31c88b353ae8bde6cafb25efb"
 },
 "nbformat": 3,
 "nbformat_minor": 0,
 "worksheets": [
  {
   "cells": [
    {
     "cell_type": "markdown",
     "metadata": {},
     "source": [
      "# Description:\n",
      "\n",
      "* Example buoyant density distributions for 4 bacteria taxa\n",
      "* Making histograms of example taxa used for 16S region GC conservation figure\n",
      "\n",
      "        \"Clostridium ljungdahlii DSM 13528\",\n",
      "        \"Escherichia coli APEC O78\",\n",
      "        \"Streptomyces griseus subsp griseus\\nNBRC 13350\",\n",
      "        \"Lactobacillus gasseri ATCC 33323\"\n",
      "\n",
      "* Plotting GC content for amplicons & shotgun reads "
     ]
    },
    {
     "cell_type": "markdown",
     "metadata": {},
     "source": [
      "## parsing out just taxa of interest from read GC files\n",
      "\n",
      "### amplicons\n",
      "\n",
      "@ system76-server:~/notebook/deltaGC_notes/data/amplicon/140411_allBac/amp454-L215-N1k/140425_example-taxa\n",
      "\n",
      "* made a file of all 4 taxa\n",
      " * taxa_list.txt\n",
      " \n",
      "    $ head -n 1 ../skewnorm_m10k_r4k-11.5k.txt > skewnorm_m10k_r4k-11.5k_exp.txt; grep -f taxa_list.txt ../skewnorm_m10k_r4k-11.5k.txt >> skewnorm_m10k_r4k-11.5k_exp.txt\n",
      "    \n",
      "    $ head -n 1 ../skewnorm_m15k_r4k-20k.txt > skewnorm_m15k_r4k-20k_exp.txt; grep -f taxa_list.txt ../skewnorm_m15k_r4k-20k.txt >> skewnorm_m15k_r4k-20k_exp.txt\n",
      " \n",
      "### metagenomes\n",
      "\n",
      "@ system76-server:~/notebook/deltaGC_notes/data/mg-reads/140411_allBac/mg454-L215-N10k/140425_example-taxa\n",
      "\n",
      "    $ cp ~/notebook/deltaGC_notes/data/amplicon/140411_allBac/amp454-L215-N1k/140425_example-taxa/taxa_list.txt .\n",
      "\n",
      "    $ head -n 1 ../skewnorm_m10k_r4k-11.5k.txt > skewnorm_m10k_r4k-11.5k_exp.txt; grep -f taxa_list.txt ../skewnorm_m10k_r4k-11.5k.txt >> skewnorm_m10k_r4k-11.5k_exp.txt\n",
      "    \n",
      "    $ head -n 1 ../skewnorm_m15k_r4k-20k.txt > skewnorm_m15k_r4k-20k_exp.txt; grep -f taxa_list.txt ../skewnorm_m15k_r4k-20k.txt >> skewnorm_m15k_r4k-20k_exp.txt\n",
      " \n",
      " "
     ]
    },
    {
     "cell_type": "code",
     "collapsed": false,
     "input": [
      "%load_ext rmagic"
     ],
     "language": "python",
     "metadata": {},
     "outputs": [
      {
       "output_type": "stream",
       "stream": "stderr",
       "text": [
        "/opt/anaconda/lib/python2.7/site-packages/pytz/__init__.py:29: UserWarning: Module argparse was already imported from /opt/anaconda/lib/python2.7/argparse.pyc, but /opt/anaconda/lib/python2.7/site-packages is being added to sys.path\n",
        "  from pkg_resources import resource_stream\n"
       ]
      }
     ],
     "prompt_number": 1
    },
    {
     "cell_type": "code",
     "collapsed": false,
     "input": [
      "%%R\n",
      "# loading tables\n",
      "require(ggplot2)\n",
      "require(data.table)\n",
      "require(gridExtra)"
     ],
     "language": "python",
     "metadata": {},
     "outputs": [
      {
       "metadata": {},
       "output_type": "display_data",
       "text": [
        "Loading required package: ggplot2\n",
        "Loading required package: data.table\n",
        "data.table 1.9.2  For help type: help(\"data.table\")\n",
        "Loading required package: gridExtra\n",
        "Loading required package: grid\n"
       ]
      }
     ],
     "prompt_number": 2
    },
    {
     "cell_type": "markdown",
     "metadata": {},
     "source": [
      "## Loading amplicon deltaGC data"
     ]
    },
    {
     "cell_type": "code",
     "collapsed": false,
     "input": [
      "%%R\n",
      "base.dir = \"~/notebook/deltaGC_notes/data/amplicon/140411_allBac/amp454-L215-N1k/140425_example-taxa\";\n",
      "files = c(\n",
      "    'skewnorm_m15k_r4k-20k_exp',\n",
      "    'skewnorm_m10k_r4k-11.5k_exp'\n",
      "    )\n",
      "\n",
      "tbl.l = list()\n",
      "for(i in files){\n",
      "    in.file = paste(c(i, \"txt\"), collapse=\".\")\n",
      "    in.file = paste(c(base.dir, in.file), collapse=\"/\")\n",
      "    tbl.l[[i]] = fread(in.file, header=T, sep=\"\\t\")\n",
      "    tbl.l[[i]]$file = rep(i, nrow(tbl.l[[i]]))\n",
      "    }\n",
      "\n",
      "tbl.amp = do.call(rbind, tbl.l)"
     ],
     "language": "python",
     "metadata": {},
     "outputs": [],
     "prompt_number": 4
    },
    {
     "cell_type": "markdown",
     "metadata": {},
     "source": [
      "## Loading shotgun read deltaGC data"
     ]
    },
    {
     "cell_type": "code",
     "collapsed": false,
     "input": [
      "%%R\n",
      "base.dir = \"~/notebook/deltaGC_notes/data/mg-reads/140411_allBac/mg454-L215-N10k/140425_example-taxa/\";\n",
      "files = list(\n",
      "    'skewnorm_m15k_r4k-20k_exp',\n",
      "    'skewnorm_m10k_r4k-11.5k_exp'\n",
      "    )\n",
      "\n",
      "tbl.l = list()\n",
      "for(i in files){\n",
      "    in.file = paste(c(i, \"txt\"), collapse=\".\")\n",
      "    in.file = paste(c(base.dir, in.file), collapse=\"/\")\n",
      "    tbl.l[[i]] = fread(in.file, header=T, sep=\"\\t\")\n",
      "    tbl.l[[i]]$file = rep(i, nrow(tbl.l[[i]]))\n",
      "    }\n",
      "\n",
      "tbl.mg = do.call(rbind, tbl.l)"
     ],
     "language": "python",
     "metadata": {},
     "outputs": [],
     "prompt_number": 5
    },
    {
     "cell_type": "markdown",
     "metadata": {},
     "source": [
      "## Merging tables"
     ]
    },
    {
     "cell_type": "code",
     "collapsed": false,
     "input": [
      "%%R\n",
      "# merging tables\n",
      "tbl.amp[, dataset:= 'amplicon']\n",
      "tbl.mg[, dataset:= 'shotgun']\n",
      "tbl = rbind(tbl.amp, tbl.mg)\n",
      "\n",
      "# editting values for plotting\n",
      "tbl[, file:= gsub(\".+m15k.+\", \"12.5 kb\", file)]\n",
      "tbl[, file:= gsub(\".+m10k.+\", \"6 kb\", file)]\n",
      "\n",
      "## editing names\n",
      "examples = c(\n",
      "\"Clostridium_ljungdahlii_DSM_13528\",\n",
      "\"Escherichia_coli_APEC_O78\",\n",
      "\"Streptomyces_griseus_subsp_griseus_NBRC_13350\",  \n",
      "\"Lactobacillus_gasseri_ATCC_33323\"\n",
      ")\n",
      "new.names = c(\n",
      "\"Clostridium\\nljungdahlii\\nDSM 13528\",\n",
      "\"Escherichia\\ncoli\\nAPEC O78\",\n",
      "\"Streptomyces\\ngriseus\\nsubsp griseus\\nNBRC 13350\",\n",
      "\"Lactobacillus\\ngasseri\\nATCC 33323\"\n",
      ")\n",
      "for(i in 1:length(examples)){\n",
      "    tbl$genome = gsub(examples[i], new.names[i], tbl$genome)\n",
      "    }\n",
      "\n",
      "# ordering of taxa\n",
      "tbl$genome = factor(tbl$genome, levels=new.names)\n",
      "\n",
      "# renaming 'dataset' to 'Fragments'\n",
      "tbl[, Fragments := dataset]\n",
      "tbl[, dataset := NULL]"
     ],
     "language": "python",
     "metadata": {},
     "outputs": [
      {
       "metadata": {},
       "output_type": "display_data",
       "text": [
        "                                                 genome scaffold           read\n",
        "    1:               Lactobacillus\\ngasseri\\nATCC 33323 CP000413  CP000413__418\n",
        "    2:               Lactobacillus\\ngasseri\\nATCC 33323 CP000413  CP000413__419\n",
        "    3:               Lactobacillus\\ngasseri\\nATCC 33323 CP000413  CP000413__412\n",
        "    4:               Lactobacillus\\ngasseri\\nATCC 33323 CP000413  CP000413__413\n",
        "    5:               Lactobacillus\\ngasseri\\nATCC 33323 CP000413  CP000413__410\n",
        "   ---                                                                         \n",
        "87996: Streptomyces\\ngriseus\\nsubsp griseus\\nNBRC 13350 AP009493 AP009493__2047\n",
        "87997: Streptomyces\\ngriseus\\nsubsp griseus\\nNBRC 13350 AP009493 AP009493__2040\n",
        "87998: Streptomyces\\ngriseus\\nsubsp griseus\\nNBRC 13350 AP009493 AP009493__2041\n",
        "87999: Streptomyces\\ngriseus\\nsubsp griseus\\nNBRC 13350 AP009493 AP009493__2042\n",
        "88000: Streptomyces\\ngriseus\\nsubsp griseus\\nNBRC 13350 AP009493 AP009493__2043\n",
        "        read_GC read_buoyant_density read_start read_length fragment_GC\n",
        "    1: 52.55814             1.711507    3119592         215    49.50342\n",
        "    2: 52.55814             1.711507    3585673         215    44.56862\n",
        "    3: 52.55814             1.711507    3119592         215    46.30809\n",
        "    4: 50.69767             1.709684     956257         215    44.01671\n",
        "    5: 50.69767             1.709684    3132922         215    45.14824\n",
        "   ---                                                                 \n",
        "87996: 60.46512             1.719256   15593419         215    73.57766\n",
        "87997: 67.90698             1.726549   13676810         215    72.12288\n",
        "87998: 70.23256             1.728828   15347106         215    70.99312\n",
        "87999: 74.88372             1.733386   14283447         215    75.82455\n",
        "88000: 79.06977             1.737488   10458701         215    75.74225\n",
        "       fragment_buoyant_density fragment_start fragment_length    file\n",
        "    1:                 1.708513        3119429           12284 12.5 kb\n",
        "    2:                 1.703677        3579137           14048 12.5 kb\n",
        "    3:                 1.705382        3108785           14911 12.5 kb\n",
        "    4:                 1.703136         951661           10053 12.5 kb\n",
        "    5:                 1.704245        3126169           12109 12.5 kb\n",
        "   ---                                                                \n",
        "87996:                 1.732106       15591128            5730    6 kb\n",
        "87997:                 1.730680       13675673            6543    6 kb\n",
        "87998:                 1.729573       15345649            6102    6 kb\n",
        "87999:                 1.734308       14282870            5882    6 kb\n",
        "88000:                 1.734227       10455814            6130    6 kb\n",
        "       Fragments\n",
        "    1:  amplicon\n",
        "    2:  amplicon\n",
        "    3:  amplicon\n",
        "    4:  amplicon\n",
        "    5:  amplicon\n",
        "   ---          \n",
        "87996:   shotgun\n",
        "87997:   shotgun\n",
        "87998:   shotgun\n",
        "87999:   shotgun\n",
        "88000:   shotgun\n"
       ]
      }
     ],
     "prompt_number": 6
    },
    {
     "cell_type": "markdown",
     "metadata": {},
     "source": [
      "## Adding whole genome G+C content"
     ]
    },
    {
     "cell_type": "code",
     "collapsed": false,
     "input": [
      "%%R\n",
      "\n",
      "# loading in genome GC table\n",
      "tbl.genGC = fread(\"~/notebook/deltaGC_notes/data/genome_data/prok-bac-genomes_Ngaps_GC/prok-bac-genomes_Ngaps_GC.txt\",\n",
      "                    header=F)\n",
      "## editing table\n",
      "colnames(tbl.genGC) = c('genome', 'genome_GC')\n",
      "tbl.genGC[,genome:=gsub(\".+\\\\/|\\\\.fasta\", \"\", genome)]\n",
      "\n",
      "## selecting taxa of interest\n",
      "examples = c(\n",
      "\"Clostridium_ljungdahlii_DSM_13528\",\n",
      "\"Escherichia_coli_APEC_O78\",\n",
      "\"Streptomyces_griseus_subsp_griseus_NBRC_13350\",  \n",
      "\"Lactobacillus_gasseri_ATCC_33323\"\n",
      ")\n",
      "\n",
      "tbl.genGC = subset(tbl.genGC, genome %in% examples)\n",
      "\n",
      "\n",
      "## changing names\n",
      "new.names = c(\n",
      "\"Clostridium\\nljungdahlii\\nDSM 13528\",\n",
      "\"Escherichia\\ncoli\\nAPEC O78\",\n",
      "\"Streptomyces\\ngriseus\\nsubsp griseus\\nNBRC 13350\",\n",
      "\"Lactobacillus\\ngasseri\\nATCC 33323\"\n",
      ")\n",
      "\n",
      "for(i in 1:length(examples)){\n",
      "    tbl.genGC$genome = gsub(examples[i], new.names[i], tbl.genGC$genome)\n",
      "}\n",
      "\n",
      "\n",
      "## calculating BD for each\n",
      "tbl.genGC[, BD:= 0.098 * genome_GC + 1.66]"
     ],
     "language": "python",
     "metadata": {},
     "outputs": [
      {
       "metadata": {},
       "output_type": "display_data",
       "text": [
        "                                             genome genome_GC       BD\n",
        "1: Streptomyces\\ngriseus\\nsubsp griseus\\nNBRC 13350 0.7222741 1.730783\n",
        "2:                      Escherichia\\ncoli\\nAPEC O78 0.5068013 1.709667\n",
        "3:              Clostridium\\nljungdahlii\\nDSM 13528 0.3059600 1.689984\n",
        "4:               Lactobacillus\\ngasseri\\nATCC 33323 0.3468158 1.693988\n"
       ]
      }
     ],
     "prompt_number": 8
    },
    {
     "cell_type": "code",
     "collapsed": false,
     "input": [
      "%%R -w 7 -h 6 -u in\n",
      "## plotting with mean GC\n",
      "tbl1 = subset( tbl , file='12.5 kb' )\n",
      "\n",
      "# plotting\n",
      "p = ggplot(tbl1, aes(fragment_buoyant_density, fill=Fragments)) + \n",
      "        geom_density(alpha=0.5, size=0.4) +\n",
      "        facet_grid(genome ~ .) +\n",
      "        geom_vline(data=tbl.genGC, aes(xintercept=BD), linetype='dashed') +\n",
      "        labs(x=\"Fragment buoyant density\", y=\"Kernel density\") +\n",
      "        theme( \n",
      "            text = element_text(size=18)\n",
      "            )\n",
      "ggsave(\"~/notebook/deltaGC_notes/data/amp-mg/figures/BD-dist_example-bac.tiff\", \n",
      "          width=7, height=6, units='in', dpi=300)\n",
      "#print(p)  \n",
      "xxx=1"
     ],
     "language": "python",
     "metadata": {},
     "outputs": [],
     "prompt_number": 16
    },
    {
     "cell_type": "code",
     "collapsed": false,
     "input": [],
     "language": "python",
     "metadata": {},
     "outputs": []
    }
   ],
   "metadata": {}
  }
 ]
}